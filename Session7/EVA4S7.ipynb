{
  "nbformat": 4,
  "nbformat_minor": 0,
  "metadata": {
    "colab": {
      "name": "EVA4S7.ipynb",
      "provenance": [],
      "collapsed_sections": [],
      "authorship_tag": "ABX9TyMS9GezfnOrUDIZskOwTAR/",
      "include_colab_link": true
    },
    "kernelspec": {
      "name": "python3",
      "display_name": "Python 3"
    },
    "accelerator": "GPU"
  },
  "cells": [
    {
      "cell_type": "markdown",
      "metadata": {
        "id": "view-in-github",
        "colab_type": "text"
      },
      "source": [
        "<a href=\"https://colab.research.google.com/github/pratikiiitb2013/EVA4/blob/master/Session7/EVA4S7.ipynb\" target=\"_parent\"><img src=\"https://colab.research.google.com/assets/colab-badge.svg\" alt=\"Open In Colab\"/></a>"
      ]
    },
    {
      "cell_type": "code",
      "metadata": {
        "id": "-jd0u0vDbspF",
        "colab_type": "code",
        "outputId": "18da6c8f-37cc-4591-e886-02af4583c64b",
        "colab": {
          "base_uri": "https://localhost:8080/",
          "height": 34
        }
      },
      "source": [
        "from google.colab import drive\n",
        "drive.mount('/content/gdrive/')"
      ],
      "execution_count": 1,
      "outputs": [
        {
          "output_type": "stream",
          "text": [
            "Drive already mounted at /content/gdrive/; to attempt to forcibly remount, call drive.mount(\"/content/gdrive/\", force_remount=True).\n"
          ],
          "name": "stdout"
        }
      ]
    },
    {
      "cell_type": "code",
      "metadata": {
        "id": "AGVvZoZ-cz77",
        "colab_type": "code",
        "outputId": "88da5694-fc9c-4f66-f4a9-399b71f2a073",
        "colab": {
          "base_uri": "https://localhost:8080/",
          "height": 34
        }
      },
      "source": [
        "import sys\n",
        "sys.path.append('/content/gdrive/My Drive/Colab Notebooks/EVA4/python_files/')\n",
        "from all_imports import *\n",
        "import get_train_test as tt\n",
        "import train_test_loader as ttl\n",
        "import get_model as gm\n",
        "import train_test_def as ttd\n",
        "\n"
      ],
      "execution_count": 2,
      "outputs": [
        {
          "output_type": "stream",
          "text": [
            "CUDA Available? True\n"
          ],
          "name": "stdout"
        }
      ]
    },
    {
      "cell_type": "code",
      "metadata": {
        "id": "8x8SB_vQfGFF",
        "colab_type": "code",
        "colab": {}
      },
      "source": [
        "# sys.path"
      ],
      "execution_count": 0,
      "outputs": []
    },
    {
      "cell_type": "code",
      "metadata": {
        "id": "-FkHrlfhjNPq",
        "colab_type": "code",
        "colab": {
          "base_uri": "https://localhost:8080/",
          "height": 51
        },
        "outputId": "a59cae41-7330-4204-d3e1-f497bba768b1"
      },
      "source": [
        "train = tt.get_train('CIFAR10')\n",
        "test = tt.get_test('CIFAR10')"
      ],
      "execution_count": 4,
      "outputs": [
        {
          "output_type": "stream",
          "text": [
            "Files already downloaded and verified\n",
            "Files already downloaded and verified\n"
          ],
          "name": "stdout"
        }
      ]
    },
    {
      "cell_type": "code",
      "metadata": {
        "id": "BOjZf4W9_iYa",
        "colab_type": "code",
        "colab": {}
      },
      "source": [
        "train_loader, test_loader = ttl.get_train_test_loader(train,test)\n",
        "classes = ('plane', 'car', 'bird', 'cat',\n",
        "           'deer', 'dog', 'frog', 'horse', 'ship', 'truck')"
      ],
      "execution_count": 0,
      "outputs": []
    },
    {
      "cell_type": "code",
      "metadata": {
        "id": "6R7mv20UDHes",
        "colab_type": "code",
        "colab": {}
      },
      "source": [
        ""
      ],
      "execution_count": 0,
      "outputs": []
    },
    {
      "cell_type": "code",
      "metadata": {
        "id": "WcB78UidB7F4",
        "colab_type": "code",
        "colab": {
          "base_uri": "https://localhost:8080/",
          "height": 1000
        },
        "outputId": "8d31ea30-d0ec-42e1-b38a-024bcf92d7a9"
      },
      "source": [
        "!pip install torchsummary\n",
        "from torchsummary import summary\n",
        "use_cuda = torch.cuda.is_available()\n",
        "device = torch.device(\"cuda\" if use_cuda else \"cpu\")\n",
        "print(device)\n",
        "model = gm.get_model_instance(0.10).to(device)\n",
        "summary(model, input_size=(3, 32, 32))"
      ],
      "execution_count": 6,
      "outputs": [
        {
          "output_type": "stream",
          "text": [
            "Requirement already satisfied: torchsummary in /usr/local/lib/python3.6/dist-packages (1.5.1)\n",
            "cuda\n",
            "----------------------------------------------------------------\n",
            "        Layer (type)               Output Shape         Param #\n",
            "================================================================\n",
            "            Conv2d-1           [-1, 32, 32, 32]             864\n",
            "       BatchNorm2d-2           [-1, 32, 32, 32]              64\n",
            "              ReLU-3           [-1, 32, 32, 32]               0\n",
            "           Dropout-4           [-1, 32, 32, 32]               0\n",
            "            Conv2d-5           [-1, 64, 32, 32]          18,432\n",
            "       BatchNorm2d-6           [-1, 64, 32, 32]             128\n",
            "              ReLU-7           [-1, 64, 32, 32]               0\n",
            "           Dropout-8           [-1, 64, 32, 32]               0\n",
            "            Conv2d-9          [-1, 128, 32, 32]          73,728\n",
            "      BatchNorm2d-10          [-1, 128, 32, 32]             256\n",
            "             ReLU-11          [-1, 128, 32, 32]               0\n",
            "          Dropout-12          [-1, 128, 32, 32]               0\n",
            "        MaxPool2d-13          [-1, 128, 16, 16]               0\n",
            "           Conv2d-14           [-1, 32, 16, 16]           4,096\n",
            "      BatchNorm2d-15           [-1, 32, 16, 16]              64\n",
            "             ReLU-16           [-1, 32, 16, 16]               0\n",
            "          Dropout-17           [-1, 32, 16, 16]               0\n",
            "           Conv2d-18           [-1, 32, 16, 16]             288\n",
            "           Conv2d-19           [-1, 64, 16, 16]           2,112\n",
            "      BatchNorm2d-20           [-1, 64, 16, 16]             128\n",
            "             ReLU-21           [-1, 64, 16, 16]               0\n",
            "          Dropout-22           [-1, 64, 16, 16]               0\n",
            "           Conv2d-23          [-1, 128, 16, 16]          73,728\n",
            "      BatchNorm2d-24          [-1, 128, 16, 16]             256\n",
            "             ReLU-25          [-1, 128, 16, 16]               0\n",
            "          Dropout-26          [-1, 128, 16, 16]               0\n",
            "        MaxPool2d-27            [-1, 128, 8, 8]               0\n",
            "           Conv2d-28             [-1, 32, 8, 8]           4,096\n",
            "      BatchNorm2d-29             [-1, 32, 8, 8]              64\n",
            "             ReLU-30             [-1, 32, 8, 8]               0\n",
            "          Dropout-31             [-1, 32, 8, 8]               0\n",
            "           Conv2d-32             [-1, 64, 6, 6]          18,432\n",
            "      BatchNorm2d-33             [-1, 64, 6, 6]             128\n",
            "             ReLU-34             [-1, 64, 6, 6]               0\n",
            "          Dropout-35             [-1, 64, 6, 6]               0\n",
            "           Conv2d-36            [-1, 128, 6, 6]          73,728\n",
            "      BatchNorm2d-37            [-1, 128, 6, 6]             256\n",
            "             ReLU-38            [-1, 128, 6, 6]               0\n",
            "          Dropout-39            [-1, 128, 6, 6]               0\n",
            "        MaxPool2d-40            [-1, 128, 3, 3]               0\n",
            "           Conv2d-41             [-1, 32, 3, 3]           4,096\n",
            "      BatchNorm2d-42             [-1, 32, 3, 3]              64\n",
            "             ReLU-43             [-1, 32, 3, 3]               0\n",
            "          Dropout-44             [-1, 32, 3, 3]               0\n",
            "           Conv2d-45             [-1, 32, 3, 3]             288\n",
            "           Conv2d-46             [-1, 64, 3, 3]           2,112\n",
            "      BatchNorm2d-47             [-1, 64, 3, 3]             128\n",
            "             ReLU-48             [-1, 64, 3, 3]               0\n",
            "          Dropout-49             [-1, 64, 3, 3]               0\n",
            "           Conv2d-50             [-1, 90, 3, 3]          51,840\n",
            "      BatchNorm2d-51             [-1, 90, 3, 3]             180\n",
            "        AvgPool2d-52             [-1, 90, 1, 1]               0\n",
            "           Conv2d-53             [-1, 10, 1, 1]             900\n",
            "================================================================\n",
            "Total params: 330,456\n",
            "Trainable params: 330,456\n",
            "Non-trainable params: 0\n",
            "----------------------------------------------------------------\n",
            "Input size (MB): 0.01\n",
            "Forward/backward pass size (MB): 9.45\n",
            "Params size (MB): 1.26\n",
            "Estimated Total Size (MB): 10.72\n",
            "----------------------------------------------------------------\n"
          ],
          "name": "stdout"
        }
      ]
    },
    {
      "cell_type": "code",
      "metadata": {
        "id": "-XEShWwuhezp",
        "colab_type": "code",
        "colab": {
          "base_uri": "https://localhost:8080/",
          "height": 1000
        },
        "outputId": "0409ef8c-a8c2-4153-fb7e-fd68d0250d5d"
      },
      "source": [
        "# model =  Net().to(device)\n",
        "train_losses = []\n",
        "test_losses = []\n",
        "train_acc = []\n",
        "test_acc = []\n",
        "# criterion = nn.CrossEntropyLoss()\n",
        "# criterion1 = nn.CrossEntropyLoss(reduction='sum')\n",
        "model = gm.get_model_instance(0.1).to(device)\n",
        "optimizer = optim.SGD(model.parameters(), lr=0.1, momentum=0.9)\n",
        "scheduler = StepLR(optimizer, step_size=15, gamma=0.1)\n",
        "EPOCHS = 50\n",
        "for epoch in range(EPOCHS):\n",
        "    print(\"EPOCH:\", epoch+1)\n",
        "    a,b = ttd.train(model, device, train_loader, optimizer, epoch)\n",
        "    train_losses.extend(a)\n",
        "    train_acc.extend(b)\n",
        "    c,d = ttd.test(model, device, test_loader)\n",
        "    test_losses.extend(c)\n",
        "    test_acc.extend(d)\n",
        "    scheduler.step()\n",
        "    print('')"
      ],
      "execution_count": 7,
      "outputs": [
        {
          "output_type": "stream",
          "text": [
            "\r  0%|          | 0/391 [00:00<?, ?it/s]"
          ],
          "name": "stderr"
        },
        {
          "output_type": "stream",
          "text": [
            "EPOCH: 1\n"
          ],
          "name": "stdout"
        },
        {
          "output_type": "stream",
          "text": [
            "Loss=1.2175145149230957 Batch_id=390 Accuracy=44.13: 100%|██████████| 391/391 [00:16<00:00, 23.49it/s]\n",
            "  0%|          | 0/391 [00:00<?, ?it/s]"
          ],
          "name": "stderr"
        },
        {
          "output_type": "stream",
          "text": [
            "\n",
            "Test set: Average loss: 1.3186, Accuracy: 5209/10000 (52.09%)\n",
            "\n",
            "\n",
            "EPOCH: 2\n"
          ],
          "name": "stdout"
        },
        {
          "output_type": "stream",
          "text": [
            "Loss=1.050176978111267 Batch_id=390 Accuracy=60.71: 100%|██████████| 391/391 [00:16<00:00, 23.31it/s]\n",
            "  0%|          | 0/391 [00:00<?, ?it/s]"
          ],
          "name": "stderr"
        },
        {
          "output_type": "stream",
          "text": [
            "\n",
            "Test set: Average loss: 0.9747, Accuracy: 6542/10000 (65.42%)\n",
            "\n",
            "\n",
            "EPOCH: 3\n"
          ],
          "name": "stdout"
        },
        {
          "output_type": "stream",
          "text": [
            "Loss=0.6981700658798218 Batch_id=390 Accuracy=68.27: 100%|██████████| 391/391 [00:16<00:00, 23.45it/s]\n",
            "  0%|          | 0/391 [00:00<?, ?it/s]"
          ],
          "name": "stderr"
        },
        {
          "output_type": "stream",
          "text": [
            "\n",
            "Test set: Average loss: 0.8469, Accuracy: 7005/10000 (70.05%)\n",
            "\n",
            "\n",
            "EPOCH: 4\n"
          ],
          "name": "stdout"
        },
        {
          "output_type": "stream",
          "text": [
            "Loss=0.6491316556930542 Batch_id=390 Accuracy=72.03: 100%|██████████| 391/391 [00:16<00:00, 23.29it/s]\n",
            "  0%|          | 0/391 [00:00<?, ?it/s]"
          ],
          "name": "stderr"
        },
        {
          "output_type": "stream",
          "text": [
            "\n",
            "Test set: Average loss: 0.8191, Accuracy: 7131/10000 (71.31%)\n",
            "\n",
            "\n",
            "EPOCH: 5\n"
          ],
          "name": "stdout"
        },
        {
          "output_type": "stream",
          "text": [
            "Loss=0.6363690495491028 Batch_id=390 Accuracy=74.46: 100%|██████████| 391/391 [00:16<00:00, 29.10it/s]\n",
            "  0%|          | 0/391 [00:00<?, ?it/s]"
          ],
          "name": "stderr"
        },
        {
          "output_type": "stream",
          "text": [
            "\n",
            "Test set: Average loss: 0.7171, Accuracy: 7526/10000 (75.26%)\n",
            "\n",
            "\n",
            "EPOCH: 6\n"
          ],
          "name": "stdout"
        },
        {
          "output_type": "stream",
          "text": [
            "Loss=0.5428001284599304 Batch_id=390 Accuracy=76.25: 100%|██████████| 391/391 [00:16<00:00, 29.15it/s]\n",
            "  0%|          | 0/391 [00:00<?, ?it/s]"
          ],
          "name": "stderr"
        },
        {
          "output_type": "stream",
          "text": [
            "\n",
            "Test set: Average loss: 0.6991, Accuracy: 7608/10000 (76.08%)\n",
            "\n",
            "\n",
            "EPOCH: 7\n"
          ],
          "name": "stdout"
        },
        {
          "output_type": "stream",
          "text": [
            "Loss=0.7192869782447815 Batch_id=390 Accuracy=77.56: 100%|██████████| 391/391 [00:16<00:00, 23.25it/s]\n",
            "  0%|          | 0/391 [00:00<?, ?it/s]"
          ],
          "name": "stderr"
        },
        {
          "output_type": "stream",
          "text": [
            "\n",
            "Test set: Average loss: 0.6315, Accuracy: 7809/10000 (78.09%)\n",
            "\n",
            "\n",
            "EPOCH: 8\n"
          ],
          "name": "stdout"
        },
        {
          "output_type": "stream",
          "text": [
            "Loss=0.5664512515068054 Batch_id=390 Accuracy=78.53: 100%|██████████| 391/391 [00:16<00:00, 23.60it/s]\n",
            "  0%|          | 0/391 [00:00<?, ?it/s]"
          ],
          "name": "stderr"
        },
        {
          "output_type": "stream",
          "text": [
            "\n",
            "Test set: Average loss: 0.6421, Accuracy: 7794/10000 (77.94%)\n",
            "\n",
            "\n",
            "EPOCH: 9\n"
          ],
          "name": "stdout"
        },
        {
          "output_type": "stream",
          "text": [
            "Loss=0.45877909660339355 Batch_id=390 Accuracy=79.74: 100%|██████████| 391/391 [00:16<00:00, 23.74it/s]\n",
            "  0%|          | 0/391 [00:00<?, ?it/s]"
          ],
          "name": "stderr"
        },
        {
          "output_type": "stream",
          "text": [
            "\n",
            "Test set: Average loss: 0.6780, Accuracy: 7697/10000 (76.97%)\n",
            "\n",
            "\n",
            "EPOCH: 10\n"
          ],
          "name": "stdout"
        },
        {
          "output_type": "stream",
          "text": [
            "Loss=0.38580286502838135 Batch_id=390 Accuracy=80.55: 100%|██████████| 391/391 [00:16<00:00, 23.16it/s]\n",
            "  0%|          | 0/391 [00:00<?, ?it/s]"
          ],
          "name": "stderr"
        },
        {
          "output_type": "stream",
          "text": [
            "\n",
            "Test set: Average loss: 0.6017, Accuracy: 7935/10000 (79.35%)\n",
            "\n",
            "\n",
            "EPOCH: 11\n"
          ],
          "name": "stdout"
        },
        {
          "output_type": "stream",
          "text": [
            "Loss=0.4795950949192047 Batch_id=390 Accuracy=81.21: 100%|██████████| 391/391 [00:16<00:00, 28.46it/s]\n",
            "  0%|          | 0/391 [00:00<?, ?it/s]"
          ],
          "name": "stderr"
        },
        {
          "output_type": "stream",
          "text": [
            "\n",
            "Test set: Average loss: 0.5584, Accuracy: 8096/10000 (80.96%)\n",
            "\n",
            "\n",
            "EPOCH: 12\n"
          ],
          "name": "stdout"
        },
        {
          "output_type": "stream",
          "text": [
            "Loss=0.4626583158969879 Batch_id=390 Accuracy=81.87: 100%|██████████| 391/391 [00:16<00:00, 23.54it/s]\n",
            "  0%|          | 0/391 [00:00<?, ?it/s]"
          ],
          "name": "stderr"
        },
        {
          "output_type": "stream",
          "text": [
            "\n",
            "Test set: Average loss: 0.6302, Accuracy: 7875/10000 (78.75%)\n",
            "\n",
            "\n",
            "EPOCH: 13\n"
          ],
          "name": "stdout"
        },
        {
          "output_type": "stream",
          "text": [
            "Loss=0.5420868992805481 Batch_id=390 Accuracy=82.17: 100%|██████████| 391/391 [00:16<00:00, 27.89it/s]\n",
            "  0%|          | 0/391 [00:00<?, ?it/s]"
          ],
          "name": "stderr"
        },
        {
          "output_type": "stream",
          "text": [
            "\n",
            "Test set: Average loss: 0.5805, Accuracy: 8016/10000 (80.16%)\n",
            "\n",
            "\n",
            "EPOCH: 14\n"
          ],
          "name": "stdout"
        },
        {
          "output_type": "stream",
          "text": [
            "Loss=0.5575292110443115 Batch_id=390 Accuracy=82.81: 100%|██████████| 391/391 [00:16<00:00, 23.97it/s]\n",
            "  0%|          | 0/391 [00:00<?, ?it/s]"
          ],
          "name": "stderr"
        },
        {
          "output_type": "stream",
          "text": [
            "\n",
            "Test set: Average loss: 0.6302, Accuracy: 7859/10000 (78.59%)\n",
            "\n",
            "\n",
            "EPOCH: 15\n"
          ],
          "name": "stdout"
        },
        {
          "output_type": "stream",
          "text": [
            "Loss=0.5152953863143921 Batch_id=390 Accuracy=83.27: 100%|██████████| 391/391 [00:16<00:00, 24.14it/s]\n",
            "  0%|          | 0/391 [00:00<?, ?it/s]"
          ],
          "name": "stderr"
        },
        {
          "output_type": "stream",
          "text": [
            "\n",
            "Test set: Average loss: 0.5366, Accuracy: 8189/10000 (81.89%)\n",
            "\n",
            "\n",
            "EPOCH: 16\n"
          ],
          "name": "stdout"
        },
        {
          "output_type": "stream",
          "text": [
            "Loss=0.4838113784790039 Batch_id=390 Accuracy=85.84: 100%|██████████| 391/391 [00:16<00:00, 23.99it/s]\n",
            "  0%|          | 0/391 [00:00<?, ?it/s]"
          ],
          "name": "stderr"
        },
        {
          "output_type": "stream",
          "text": [
            "\n",
            "Test set: Average loss: 0.4885, Accuracy: 8320/10000 (83.20%)\n",
            "\n",
            "\n",
            "EPOCH: 17\n"
          ],
          "name": "stdout"
        },
        {
          "output_type": "stream",
          "text": [
            "Loss=0.47640785574913025 Batch_id=390 Accuracy=86.87: 100%|██████████| 391/391 [00:16<00:00, 29.00it/s]\n",
            "  0%|          | 0/391 [00:00<?, ?it/s]"
          ],
          "name": "stderr"
        },
        {
          "output_type": "stream",
          "text": [
            "\n",
            "Test set: Average loss: 0.4746, Accuracy: 8346/10000 (83.46%)\n",
            "\n",
            "\n",
            "EPOCH: 18\n"
          ],
          "name": "stdout"
        },
        {
          "output_type": "stream",
          "text": [
            "Loss=0.2425730675458908 Batch_id=390 Accuracy=86.78: 100%|██████████| 391/391 [00:16<00:00, 24.18it/s]\n",
            "  0%|          | 0/391 [00:00<?, ?it/s]"
          ],
          "name": "stderr"
        },
        {
          "output_type": "stream",
          "text": [
            "\n",
            "Test set: Average loss: 0.4748, Accuracy: 8385/10000 (83.85%)\n",
            "\n",
            "\n",
            "EPOCH: 19\n"
          ],
          "name": "stdout"
        },
        {
          "output_type": "stream",
          "text": [
            "Loss=0.3702388405799866 Batch_id=390 Accuracy=87.39: 100%|██████████| 391/391 [00:16<00:00, 29.02it/s]\n",
            "  0%|          | 0/391 [00:00<?, ?it/s]"
          ],
          "name": "stderr"
        },
        {
          "output_type": "stream",
          "text": [
            "\n",
            "Test set: Average loss: 0.4723, Accuracy: 8404/10000 (84.04%)\n",
            "\n",
            "\n",
            "EPOCH: 20\n"
          ],
          "name": "stdout"
        },
        {
          "output_type": "stream",
          "text": [
            "Loss=0.6586035490036011 Batch_id=390 Accuracy=87.47: 100%|██████████| 391/391 [00:16<00:00, 24.18it/s]\n",
            "  0%|          | 0/391 [00:00<?, ?it/s]"
          ],
          "name": "stderr"
        },
        {
          "output_type": "stream",
          "text": [
            "\n",
            "Test set: Average loss: 0.4769, Accuracy: 8408/10000 (84.08%)\n",
            "\n",
            "\n",
            "EPOCH: 21\n"
          ],
          "name": "stdout"
        },
        {
          "output_type": "stream",
          "text": [
            "Loss=0.3224501609802246 Batch_id=390 Accuracy=87.47: 100%|██████████| 391/391 [00:16<00:00, 28.61it/s]\n",
            "  0%|          | 0/391 [00:00<?, ?it/s]"
          ],
          "name": "stderr"
        },
        {
          "output_type": "stream",
          "text": [
            "\n",
            "Test set: Average loss: 0.4697, Accuracy: 8401/10000 (84.01%)\n",
            "\n",
            "\n",
            "EPOCH: 22\n"
          ],
          "name": "stdout"
        },
        {
          "output_type": "stream",
          "text": [
            "Loss=0.29889312386512756 Batch_id=390 Accuracy=87.64: 100%|██████████| 391/391 [00:16<00:00, 24.33it/s]\n",
            "  0%|          | 0/391 [00:00<?, ?it/s]"
          ],
          "name": "stderr"
        },
        {
          "output_type": "stream",
          "text": [
            "\n",
            "Test set: Average loss: 0.4762, Accuracy: 8393/10000 (83.93%)\n",
            "\n",
            "\n",
            "EPOCH: 23\n"
          ],
          "name": "stdout"
        },
        {
          "output_type": "stream",
          "text": [
            "Loss=0.3689076900482178 Batch_id=390 Accuracy=87.79: 100%|██████████| 391/391 [00:16<00:00, 23.91it/s]\n",
            "  0%|          | 0/391 [00:00<?, ?it/s]"
          ],
          "name": "stderr"
        },
        {
          "output_type": "stream",
          "text": [
            "\n",
            "Test set: Average loss: 0.4700, Accuracy: 8426/10000 (84.26%)\n",
            "\n",
            "\n",
            "EPOCH: 24\n"
          ],
          "name": "stdout"
        },
        {
          "output_type": "stream",
          "text": [
            "Loss=0.38550814986228943 Batch_id=390 Accuracy=87.81: 100%|██████████| 391/391 [00:16<00:00, 24.20it/s]\n",
            "  0%|          | 0/391 [00:00<?, ?it/s]"
          ],
          "name": "stderr"
        },
        {
          "output_type": "stream",
          "text": [
            "\n",
            "Test set: Average loss: 0.4668, Accuracy: 8403/10000 (84.03%)\n",
            "\n",
            "\n",
            "EPOCH: 25\n"
          ],
          "name": "stdout"
        },
        {
          "output_type": "stream",
          "text": [
            "Loss=0.22423811256885529 Batch_id=390 Accuracy=88.11: 100%|██████████| 391/391 [00:15<00:00, 24.54it/s]\n",
            "  0%|          | 0/391 [00:00<?, ?it/s]"
          ],
          "name": "stderr"
        },
        {
          "output_type": "stream",
          "text": [
            "\n",
            "Test set: Average loss: 0.4707, Accuracy: 8432/10000 (84.32%)\n",
            "\n",
            "\n",
            "EPOCH: 26\n"
          ],
          "name": "stdout"
        },
        {
          "output_type": "stream",
          "text": [
            "Loss=0.30389928817749023 Batch_id=390 Accuracy=88.24: 100%|██████████| 391/391 [00:16<00:00, 28.33it/s]\n",
            "  0%|          | 0/391 [00:00<?, ?it/s]"
          ],
          "name": "stderr"
        },
        {
          "output_type": "stream",
          "text": [
            "\n",
            "Test set: Average loss: 0.4643, Accuracy: 8414/10000 (84.14%)\n",
            "\n",
            "\n",
            "EPOCH: 27\n"
          ],
          "name": "stdout"
        },
        {
          "output_type": "stream",
          "text": [
            "Loss=0.34681373834609985 Batch_id=390 Accuracy=88.21: 100%|██████████| 391/391 [00:16<00:00, 24.28it/s]\n",
            "  0%|          | 0/391 [00:00<?, ?it/s]"
          ],
          "name": "stderr"
        },
        {
          "output_type": "stream",
          "text": [
            "\n",
            "Test set: Average loss: 0.4636, Accuracy: 8459/10000 (84.59%)\n",
            "\n",
            "\n",
            "EPOCH: 28\n"
          ],
          "name": "stdout"
        },
        {
          "output_type": "stream",
          "text": [
            "Loss=0.4103527069091797 Batch_id=390 Accuracy=88.26: 100%|██████████| 391/391 [00:16<00:00, 24.22it/s]\n",
            "  0%|          | 0/391 [00:00<?, ?it/s]"
          ],
          "name": "stderr"
        },
        {
          "output_type": "stream",
          "text": [
            "\n",
            "Test set: Average loss: 0.4649, Accuracy: 8430/10000 (84.30%)\n",
            "\n",
            "\n",
            "EPOCH: 29\n"
          ],
          "name": "stdout"
        },
        {
          "output_type": "stream",
          "text": [
            "Loss=0.309379518032074 Batch_id=390 Accuracy=88.47: 100%|██████████| 391/391 [00:16<00:00, 23.79it/s]\n",
            "  0%|          | 0/391 [00:00<?, ?it/s]"
          ],
          "name": "stderr"
        },
        {
          "output_type": "stream",
          "text": [
            "\n",
            "Test set: Average loss: 0.4737, Accuracy: 8419/10000 (84.19%)\n",
            "\n",
            "\n",
            "EPOCH: 30\n"
          ],
          "name": "stdout"
        },
        {
          "output_type": "stream",
          "text": [
            "Loss=0.32792311906814575 Batch_id=390 Accuracy=88.51: 100%|██████████| 391/391 [00:16<00:00, 24.02it/s]\n",
            "  0%|          | 0/391 [00:00<?, ?it/s]"
          ],
          "name": "stderr"
        },
        {
          "output_type": "stream",
          "text": [
            "\n",
            "Test set: Average loss: 0.4655, Accuracy: 8456/10000 (84.56%)\n",
            "\n",
            "\n",
            "EPOCH: 31\n"
          ],
          "name": "stdout"
        },
        {
          "output_type": "stream",
          "text": [
            "Loss=0.3946620523929596 Batch_id=390 Accuracy=88.59: 100%|██████████| 391/391 [00:16<00:00, 29.08it/s]\n",
            "  0%|          | 0/391 [00:00<?, ?it/s]"
          ],
          "name": "stderr"
        },
        {
          "output_type": "stream",
          "text": [
            "\n",
            "Test set: Average loss: 0.4631, Accuracy: 8415/10000 (84.15%)\n",
            "\n",
            "\n",
            "EPOCH: 32\n"
          ],
          "name": "stdout"
        },
        {
          "output_type": "stream",
          "text": [
            "Loss=0.51075679063797 Batch_id=390 Accuracy=88.89: 100%|██████████| 391/391 [00:16<00:00, 24.17it/s]\n",
            "  0%|          | 0/391 [00:00<?, ?it/s]"
          ],
          "name": "stderr"
        },
        {
          "output_type": "stream",
          "text": [
            "\n",
            "Test set: Average loss: 0.4667, Accuracy: 8448/10000 (84.48%)\n",
            "\n",
            "\n",
            "EPOCH: 33\n"
          ],
          "name": "stdout"
        },
        {
          "output_type": "stream",
          "text": [
            "Loss=0.19237351417541504 Batch_id=390 Accuracy=88.99: 100%|██████████| 391/391 [00:16<00:00, 24.18it/s]\n",
            "  0%|          | 0/391 [00:00<?, ?it/s]"
          ],
          "name": "stderr"
        },
        {
          "output_type": "stream",
          "text": [
            "\n",
            "Test set: Average loss: 0.4646, Accuracy: 8467/10000 (84.67%)\n",
            "\n",
            "\n",
            "EPOCH: 34\n"
          ],
          "name": "stdout"
        },
        {
          "output_type": "stream",
          "text": [
            "Loss=0.2727115750312805 Batch_id=390 Accuracy=88.94: 100%|██████████| 391/391 [00:16<00:00, 28.63it/s]\n",
            "  0%|          | 0/391 [00:00<?, ?it/s]"
          ],
          "name": "stderr"
        },
        {
          "output_type": "stream",
          "text": [
            "\n",
            "Test set: Average loss: 0.4616, Accuracy: 8470/10000 (84.70%)\n",
            "\n",
            "\n",
            "EPOCH: 35\n"
          ],
          "name": "stdout"
        },
        {
          "output_type": "stream",
          "text": [
            "Loss=0.216386079788208 Batch_id=390 Accuracy=88.80: 100%|██████████| 391/391 [00:16<00:00, 24.05it/s]\n",
            "  0%|          | 0/391 [00:00<?, ?it/s]"
          ],
          "name": "stderr"
        },
        {
          "output_type": "stream",
          "text": [
            "\n",
            "Test set: Average loss: 0.4675, Accuracy: 8452/10000 (84.52%)\n",
            "\n",
            "\n",
            "EPOCH: 36\n"
          ],
          "name": "stdout"
        },
        {
          "output_type": "stream",
          "text": [
            "Loss=0.2502634823322296 Batch_id=390 Accuracy=88.74: 100%|██████████| 391/391 [00:16<00:00, 23.88it/s]\n",
            "  0%|          | 0/391 [00:00<?, ?it/s]"
          ],
          "name": "stderr"
        },
        {
          "output_type": "stream",
          "text": [
            "\n",
            "Test set: Average loss: 0.4562, Accuracy: 8477/10000 (84.77%)\n",
            "\n",
            "\n",
            "EPOCH: 37\n"
          ],
          "name": "stdout"
        },
        {
          "output_type": "stream",
          "text": [
            "Loss=0.3000727891921997 Batch_id=390 Accuracy=89.18: 100%|██████████| 391/391 [00:16<00:00, 29.30it/s]\n",
            "  0%|          | 0/391 [00:00<?, ?it/s]"
          ],
          "name": "stderr"
        },
        {
          "output_type": "stream",
          "text": [
            "\n",
            "Test set: Average loss: 0.4543, Accuracy: 8471/10000 (84.71%)\n",
            "\n",
            "\n",
            "EPOCH: 38\n"
          ],
          "name": "stdout"
        },
        {
          "output_type": "stream",
          "text": [
            "Loss=0.26573413610458374 Batch_id=390 Accuracy=88.97: 100%|██████████| 391/391 [00:15<00:00, 28.89it/s]\n",
            "  0%|          | 0/391 [00:00<?, ?it/s]"
          ],
          "name": "stderr"
        },
        {
          "output_type": "stream",
          "text": [
            "\n",
            "Test set: Average loss: 0.4577, Accuracy: 8490/10000 (84.90%)\n",
            "\n",
            "\n",
            "EPOCH: 39\n"
          ],
          "name": "stdout"
        },
        {
          "output_type": "stream",
          "text": [
            "Loss=0.20895203948020935 Batch_id=390 Accuracy=89.18: 100%|██████████| 391/391 [00:16<00:00, 23.78it/s]\n",
            "  0%|          | 0/391 [00:00<?, ?it/s]"
          ],
          "name": "stderr"
        },
        {
          "output_type": "stream",
          "text": [
            "\n",
            "Test set: Average loss: 0.4541, Accuracy: 8469/10000 (84.69%)\n",
            "\n",
            "\n",
            "EPOCH: 40\n"
          ],
          "name": "stdout"
        },
        {
          "output_type": "stream",
          "text": [
            "Loss=0.336913526058197 Batch_id=390 Accuracy=89.12: 100%|██████████| 391/391 [00:16<00:00, 29.28it/s]\n",
            "  0%|          | 0/391 [00:00<?, ?it/s]"
          ],
          "name": "stderr"
        },
        {
          "output_type": "stream",
          "text": [
            "\n",
            "Test set: Average loss: 0.4599, Accuracy: 8459/10000 (84.59%)\n",
            "\n",
            "\n",
            "EPOCH: 41\n"
          ],
          "name": "stdout"
        },
        {
          "output_type": "stream",
          "text": [
            "Loss=0.3491317331790924 Batch_id=390 Accuracy=89.17: 100%|██████████| 391/391 [00:15<00:00, 24.54it/s]\n",
            "  0%|          | 0/391 [00:00<?, ?it/s]"
          ],
          "name": "stderr"
        },
        {
          "output_type": "stream",
          "text": [
            "\n",
            "Test set: Average loss: 0.4570, Accuracy: 8503/10000 (85.03%)\n",
            "\n",
            "\n",
            "EPOCH: 42\n"
          ],
          "name": "stdout"
        },
        {
          "output_type": "stream",
          "text": [
            "Loss=0.22293519973754883 Batch_id=390 Accuracy=89.18: 100%|██████████| 391/391 [00:16<00:00, 24.12it/s]\n",
            "  0%|          | 0/391 [00:00<?, ?it/s]"
          ],
          "name": "stderr"
        },
        {
          "output_type": "stream",
          "text": [
            "\n",
            "Test set: Average loss: 0.4673, Accuracy: 8445/10000 (84.45%)\n",
            "\n",
            "\n",
            "EPOCH: 43\n"
          ],
          "name": "stdout"
        },
        {
          "output_type": "stream",
          "text": [
            "Loss=0.22532904148101807 Batch_id=390 Accuracy=89.08: 100%|██████████| 391/391 [00:15<00:00, 28.41it/s]\n",
            "  0%|          | 0/391 [00:00<?, ?it/s]"
          ],
          "name": "stderr"
        },
        {
          "output_type": "stream",
          "text": [
            "\n",
            "Test set: Average loss: 0.4620, Accuracy: 8474/10000 (84.74%)\n",
            "\n",
            "\n",
            "EPOCH: 44\n"
          ],
          "name": "stdout"
        },
        {
          "output_type": "stream",
          "text": [
            "Loss=0.20946097373962402 Batch_id=390 Accuracy=89.14: 100%|██████████| 391/391 [00:15<00:00, 24.44it/s]\n",
            "  0%|          | 0/391 [00:00<?, ?it/s]"
          ],
          "name": "stderr"
        },
        {
          "output_type": "stream",
          "text": [
            "\n",
            "Test set: Average loss: 0.4604, Accuracy: 8472/10000 (84.72%)\n",
            "\n",
            "\n",
            "EPOCH: 45\n"
          ],
          "name": "stdout"
        },
        {
          "output_type": "stream",
          "text": [
            "Loss=0.41429242491722107 Batch_id=390 Accuracy=89.17: 100%|██████████| 391/391 [00:16<00:00, 28.53it/s]\n",
            "  0%|          | 0/391 [00:00<?, ?it/s]"
          ],
          "name": "stderr"
        },
        {
          "output_type": "stream",
          "text": [
            "\n",
            "Test set: Average loss: 0.4561, Accuracy: 8487/10000 (84.87%)\n",
            "\n",
            "\n",
            "EPOCH: 46\n"
          ],
          "name": "stdout"
        },
        {
          "output_type": "stream",
          "text": [
            "Loss=0.489857017993927 Batch_id=390 Accuracy=89.12: 100%|██████████| 391/391 [00:16<00:00, 24.22it/s]\n",
            "  0%|          | 0/391 [00:00<?, ?it/s]"
          ],
          "name": "stderr"
        },
        {
          "output_type": "stream",
          "text": [
            "\n",
            "Test set: Average loss: 0.4604, Accuracy: 8485/10000 (84.85%)\n",
            "\n",
            "\n",
            "EPOCH: 47\n"
          ],
          "name": "stdout"
        },
        {
          "output_type": "stream",
          "text": [
            "Loss=0.3917050361633301 Batch_id=390 Accuracy=89.12: 100%|██████████| 391/391 [00:15<00:00, 29.60it/s]\n",
            "  0%|          | 0/391 [00:00<?, ?it/s]"
          ],
          "name": "stderr"
        },
        {
          "output_type": "stream",
          "text": [
            "\n",
            "Test set: Average loss: 0.4604, Accuracy: 8466/10000 (84.66%)\n",
            "\n",
            "\n",
            "EPOCH: 48\n"
          ],
          "name": "stdout"
        },
        {
          "output_type": "stream",
          "text": [
            "Loss=0.37298306822776794 Batch_id=390 Accuracy=89.22: 100%|██████████| 391/391 [00:16<00:00, 24.38it/s]\n",
            "  0%|          | 0/391 [00:00<?, ?it/s]"
          ],
          "name": "stderr"
        },
        {
          "output_type": "stream",
          "text": [
            "\n",
            "Test set: Average loss: 0.4631, Accuracy: 8472/10000 (84.72%)\n",
            "\n",
            "\n",
            "EPOCH: 49\n"
          ],
          "name": "stdout"
        },
        {
          "output_type": "stream",
          "text": [
            "Loss=0.33624592423439026 Batch_id=390 Accuracy=89.32: 100%|██████████| 391/391 [00:15<00:00, 28.71it/s]\n",
            "  0%|          | 0/391 [00:00<?, ?it/s]"
          ],
          "name": "stderr"
        },
        {
          "output_type": "stream",
          "text": [
            "\n",
            "Test set: Average loss: 0.4601, Accuracy: 8473/10000 (84.73%)\n",
            "\n",
            "\n",
            "EPOCH: 50\n"
          ],
          "name": "stdout"
        },
        {
          "output_type": "stream",
          "text": [
            "Loss=0.37975063920021057 Batch_id=390 Accuracy=89.25: 100%|██████████| 391/391 [00:16<00:00, 29.64it/s]\n"
          ],
          "name": "stderr"
        },
        {
          "output_type": "stream",
          "text": [
            "\n",
            "Test set: Average loss: 0.4539, Accuracy: 8502/10000 (85.02%)\n",
            "\n",
            "\n"
          ],
          "name": "stdout"
        }
      ]
    },
    {
      "cell_type": "code",
      "metadata": {
        "id": "fOynIa1UBPrG",
        "colab_type": "code",
        "colab": {
          "base_uri": "https://localhost:8080/",
          "height": 624
        },
        "outputId": "cf93cbc0-e4ca-4e98-da00-1d17abf31db3"
      },
      "source": [
        "%matplotlib inline\n",
        "import matplotlib.pyplot as plt\n",
        "fig, axs = plt.subplots(2,2,figsize=(15,10))\n",
        "axs[0, 0].plot(train_losses)\n",
        "axs[0, 0].set_title(\"Training Loss\")\n",
        "axs[1, 0].plot(train_acc)\n",
        "axs[1, 0].set_title(\"Training Accuracy\")\n",
        "axs[0, 1].plot(test_losses)\n",
        "axs[0, 1].set_title(\"Test Loss\")\n",
        "axs[1, 1].plot(test_acc)\n",
        "axs[1, 1].set_title(\"Test Accuracy\")"
      ],
      "execution_count": 8,
      "outputs": [
        {
          "output_type": "execute_result",
          "data": {
            "text/plain": [
              "Text(0.5, 1.0, 'Test Accuracy')"
            ]
          },
          "metadata": {
            "tags": []
          },
          "execution_count": 8
        },
        {
          "output_type": "display_data",
          "data": {
            "image/png": "[encoded data removed]",
            "text/plain": [
              "<Figure size 1080x720 with 4 Axes>"
            ]
          },
          "metadata": {
            "tags": []
          }
        }
      ]
    },
    {
      "cell_type": "code",
      "metadata": {
        "id": "kGLXhXtgCjMe",
        "colab_type": "code",
        "colab": {}
      },
      "source": [
        ""
      ],
      "execution_count": 0,
      "outputs": []
    }
  ]
}
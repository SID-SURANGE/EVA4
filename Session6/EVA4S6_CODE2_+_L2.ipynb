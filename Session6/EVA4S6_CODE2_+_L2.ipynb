{
  "nbformat": 4,
  "nbformat_minor": 0,
  "metadata": {
    "colab": {
      "name": "EVA4S6_CODE2_+_L2.ipynb",
      "provenance": [],
      "collapsed_sections": [],
      "include_colab_link": true
    },
    "kernelspec": {
      "name": "python3",
      "display_name": "Python 3"
    },
    "accelerator": "GPU"
  },
  "cells": [
    {
      "cell_type": "markdown",
      "metadata": {
        "id": "view-in-github",
        "colab_type": "text"
      },
      "source": [
        "<a href=\"https://colab.research.google.com/github/pratikiiitb2013/EVA4/blob/master/Session6/EVA4S6_CODE2_%2B_L2.ipynb\" target=\"_parent\"><img src=\"https://colab.research.google.com/assets/colab-badge.svg\" alt=\"Open In Colab\"/></a>"
      ]
    },
    {
      "cell_type": "markdown",
      "metadata": {
        "id": "Ff97MHhy585m",
        "colab_type": "text"
      },
      "source": [
        "**IMPORTS**"
      ]
    },
    {
      "cell_type": "code",
      "metadata": {
        "id": "IbjR0NNq4CGQ",
        "colab_type": "code",
        "colab": {}
      },
      "source": [
        "from __future__ import print_function\n",
        "import torch\n",
        "import torch.nn as nn\n",
        "import torch.nn.functional as F\n",
        "import torch.optim as optim\n",
        "from torchvision import datasets, transforms\n",
        "import numpy as np"
      ],
      "execution_count": 0,
      "outputs": []
    },
    {
      "cell_type": "markdown",
      "metadata": {
        "id": "6ozd89IF6BSA",
        "colab_type": "text"
      },
      "source": [
        "**DEFINE TEST/TRAIN TRANSFORMATIONS**"
      ]
    },
    {
      "cell_type": "code",
      "metadata": {
        "id": "fZrDjgeu4OHp",
        "colab_type": "code",
        "colab": {}
      },
      "source": [
        "# Train Phase transformations\n",
        "train_transforms = transforms.Compose([ \n",
        "                                       transforms.RandomRotation((-4.0, 4.0), fill=(1,)),\n",
        "                                       transforms.ToTensor(),\n",
        "                                       transforms.Normalize((0.1307,), (0.3081,)) # The mean and std have to be sequences (e.g., tuples), therefore you should add a comma after the values. \n",
        "                                       # Note the difference between (0.1307) and (0.1307,)\n",
        "                                       ])\n",
        "\n",
        "# Test Phase transformations\n",
        "test_transforms = transforms.Compose([\n",
        "                                       transforms.ToTensor(),\n",
        "                                       transforms.Normalize((0.1307,), (0.3081,))\n",
        "                                       ])\n"
      ],
      "execution_count": 0,
      "outputs": []
    },
    {
      "cell_type": "markdown",
      "metadata": {
        "id": "k9GUgjCf6I5P",
        "colab_type": "text"
      },
      "source": [
        "**LOAD MNIST DATA**"
      ]
    },
    {
      "cell_type": "code",
      "metadata": {
        "id": "fnWsraFz4k8N",
        "colab_type": "code",
        "colab": {}
      },
      "source": [
        "train = datasets.MNIST('./data', train=True, transform=train_transforms, download=True)\n",
        "test = datasets.MNIST('./data',train=False, transform=test_transforms, download=True)\n"
      ],
      "execution_count": 0,
      "outputs": []
    },
    {
      "cell_type": "markdown",
      "metadata": {
        "id": "F0eyGuTa55iD",
        "colab_type": "text"
      },
      "source": [
        "**DATA LOADERS**"
      ]
    },
    {
      "cell_type": "code",
      "metadata": {
        "id": "Stbxb7N55zJ5",
        "colab_type": "code",
        "outputId": "1850eba3-1da1-4da3-dfd5-2aa5d28b12e5",
        "colab": {
          "base_uri": "https://localhost:8080/",
          "height": 34
        }
      },
      "source": [
        "SEED = 1\n",
        "np.random.seed(42)\n",
        "torch.manual_seed(1)\n",
        "\n",
        "#check for cuda\n",
        "cuda = torch.cuda.is_available()\n",
        "print('cuda available', cuda)\n",
        "\n",
        "if cuda:\n",
        "  torch.cuda.manual_seed(1)\n",
        "\n",
        "#dataloader arguments\n",
        "dataloader_args = dict(shuffle=True, batch_size=64, num_workers=4, pin_memory=True) if cuda else dict(shuffle=True, batch_size=64)\n",
        "\n",
        "#train dataloader\n",
        "train_loader = torch.utils.data.DataLoader(train, **dataloader_args)\n",
        "\n",
        "#test dataloader\n",
        "test_loader = torch.utils.data.DataLoader(test, **dataloader_args)"
      ],
      "execution_count": 0,
      "outputs": [
        {
          "output_type": "stream",
          "text": [
            "cuda available True\n"
          ],
          "name": "stdout"
        }
      ]
    },
    {
      "cell_type": "markdown",
      "metadata": {
        "id": "zExuS7aOBLwC",
        "colab_type": "text"
      },
      "source": [
        "**Data Stats**"
      ]
    },
    {
      "cell_type": "code",
      "metadata": {
        "id": "EZwSgUio67QG",
        "colab_type": "code",
        "outputId": "0a6491ca-1fa0-49d3-8745-38fda1cd21e0",
        "colab": {
          "base_uri": "https://localhost:8080/",
          "height": 51
        }
      },
      "source": [
        "# We'd need to convert it into Numpy! Remember above we have converted it into tensors already\n",
        "# train_data = train.train_data\n",
        "# train_data = train.transform(train_data.numpy())\n",
        "\n",
        "# print('[Train]')\n",
        "# print(' - Numpy Shape:', train.train_data.cpu().numpy().shape)\n",
        "# print(' - Tensor Shape:', train.train_data.size())\n",
        "# print(' - min:', torch.min(train_data))\n",
        "# print(' - max:', torch.max(train_data))\n",
        "# print(' - mean:', torch.mean(train_data))\n",
        "# print(' - std:', torch.std(train_data))\n",
        "# print(' - var:', torch.var(train_data))\n",
        "\n",
        "dataiter = iter(train_loader)\n",
        "images, labels = dataiter.next()\n",
        "\n",
        "print(images.shape)\n",
        "print(labels.shape)"
      ],
      "execution_count": 0,
      "outputs": [
        {
          "output_type": "stream",
          "text": [
            "torch.Size([64, 1, 28, 28])\n",
            "torch.Size([64])\n"
          ],
          "name": "stdout"
        }
      ]
    },
    {
      "cell_type": "markdown",
      "metadata": {
        "id": "0apyJwaOCF7Q",
        "colab_type": "text"
      },
      "source": [
        "**MODEL**"
      ]
    },
    {
      "cell_type": "code",
      "metadata": {
        "id": "tCLObrroBHpC",
        "colab_type": "code",
        "colab": {}
      },
      "source": [
        "class Net(nn.Module):\n",
        "     def __init__(self):\n",
        "       super(Net, self).__init__()\n",
        "       #Input block\n",
        "       self.convblock1 = nn.Sequential(\n",
        "            nn.Conv2d(in_channels=1, out_channels=12, kernel_size=(3, 3), padding=0, bias=False),\n",
        "            nn.BatchNorm2d(12),\n",
        "            nn.ReLU(),\n",
        "            nn.Dropout(0.05)\n",
        "       ) # output_size = 26\n",
        "\n",
        "       #CONV BLOCK 1\n",
        "       self.convblock2 = nn.Sequential(\n",
        "            nn.Conv2d(in_channels=12, out_channels=14, kernel_size=(3, 3), padding=1, bias=False),\n",
        "            nn.BatchNorm2d(14),\n",
        "            nn.ReLU(),   \n",
        "            nn.Dropout(0.05)\n",
        "       ) # output_size = 26\n",
        "\n",
        "       #TRANSITION BLOCK\n",
        "       self.pool1 = nn.MaxPool2d((2,2))  #out = 13\n",
        "       self.convblock4 = nn.Sequential(\n",
        "            nn.Conv2d(in_channels=14, out_channels=10, kernel_size=(1,1),padding=0, bias=False),\n",
        "            nn.BatchNorm2d(10),\n",
        "            nn.ReLU(),\n",
        "            nn.Dropout(0.05)\n",
        "       ) #output = 13\n",
        "\n",
        "       #CONV BLOCK 2\n",
        "       self.convblock5 = nn.Sequential(\n",
        "            nn.Conv2d(in_channels=10, out_channels=14, kernel_size=(3, 3), padding=0, bias=False),\n",
        "            nn.BatchNorm2d(14),\n",
        "            nn.ReLU(),\n",
        "            nn.Dropout(0.05)\n",
        "       ) # output_size = 11\n",
        "\n",
        "       self.convblock6 = nn.Sequential(\n",
        "            nn.Conv2d(in_channels=14, out_channels=16, kernel_size=(3,3), padding=1, bias=False),\n",
        "            nn.BatchNorm2d(16),\n",
        "            nn.ReLU(),\n",
        "            nn.Dropout(0.1)\n",
        "       ) #out = 11\n",
        "\n",
        "       self.pool2 = nn.MaxPool2d((2,2)) #out = 5\n",
        "       self.convblock7 = nn.Sequential(\n",
        "            nn.Conv2d(in_channels=16, out_channels=20, kernel_size=(3,3), padding=0, bias=False),\n",
        "            nn.BatchNorm2d(20),\n",
        "            nn.ReLU(),\n",
        "            nn.Dropout(0.1)\n",
        "       ) #out = 5\n",
        "\n",
        "       self.gap = nn.Sequential(\n",
        "            nn.AvgPool2d(kernel_size=3)\n",
        "        ) # output_size = 1\n",
        "\n",
        "       self.convblock9 = nn.Sequential(\n",
        "            nn.Conv2d(in_channels=20, out_channels=10, kernel_size=(1,1), padding=0, bias=False)\n",
        "            #nn.Linear(20,out_features=10)\n",
        "        )\n",
        "\n",
        "     def forward(self, x):\n",
        "       x = self.convblock1(x)\n",
        "       x = self.convblock2(x)\n",
        "       #x = self.convblock3(x)\n",
        "       x = self.pool1(x)\n",
        "       x = self.convblock4(x)\n",
        "       x = self.convblock5(x)\n",
        "       x = self.convblock6(x)\n",
        "       x = self.pool2(x)\n",
        "       x = self.convblock7(x)\n",
        "       #x = self.convblock71(x)\n",
        "       #x = self.convblock8(x)\n",
        "       x = self.gap(x)\n",
        "       x = self.convblock9(x)\n",
        "       x = x.view(-1, 10)\n",
        "       return F.log_softmax(x, dim=-1)"
      ],
      "execution_count": 0,
      "outputs": []
    },
    {
      "cell_type": "code",
      "metadata": {
        "id": "MxBIa8DsBRw9",
        "colab_type": "code",
        "outputId": "311533fe-1416-42ed-cb29-4887f8260395",
        "colab": {
          "base_uri": "https://localhost:8080/",
          "height": 731
        }
      },
      "source": [
        "from torchsummary import summary\n",
        "use_cuda = torch.cuda.is_available()\n",
        "device = torch.device(\"cuda\" if use_cuda else \"cpu\")\n",
        "print(device)\n",
        "model = Net().to(device)\n",
        "summary(model, input_size=(1, 28, 28))"
      ],
      "execution_count": 0,
      "outputs": [
        {
          "output_type": "stream",
          "text": [
            "cuda\n",
            "----------------------------------------------------------------\n",
            "        Layer (type)               Output Shape         Param #\n",
            "================================================================\n",
            "            Conv2d-1           [-1, 12, 26, 26]             108\n",
            "       BatchNorm2d-2           [-1, 12, 26, 26]              24\n",
            "              ReLU-3           [-1, 12, 26, 26]               0\n",
            "           Dropout-4           [-1, 12, 26, 26]               0\n",
            "            Conv2d-5           [-1, 14, 26, 26]           1,512\n",
            "       BatchNorm2d-6           [-1, 14, 26, 26]              28\n",
            "              ReLU-7           [-1, 14, 26, 26]               0\n",
            "           Dropout-8           [-1, 14, 26, 26]               0\n",
            "         MaxPool2d-9           [-1, 14, 13, 13]               0\n",
            "           Conv2d-10           [-1, 10, 13, 13]             140\n",
            "      BatchNorm2d-11           [-1, 10, 13, 13]              20\n",
            "             ReLU-12           [-1, 10, 13, 13]               0\n",
            "          Dropout-13           [-1, 10, 13, 13]               0\n",
            "           Conv2d-14           [-1, 14, 11, 11]           1,260\n",
            "      BatchNorm2d-15           [-1, 14, 11, 11]              28\n",
            "             ReLU-16           [-1, 14, 11, 11]               0\n",
            "          Dropout-17           [-1, 14, 11, 11]               0\n",
            "           Conv2d-18           [-1, 16, 11, 11]           2,016\n",
            "      BatchNorm2d-19           [-1, 16, 11, 11]              32\n",
            "             ReLU-20           [-1, 16, 11, 11]               0\n",
            "          Dropout-21           [-1, 16, 11, 11]               0\n",
            "        MaxPool2d-22             [-1, 16, 5, 5]               0\n",
            "           Conv2d-23             [-1, 20, 3, 3]           2,880\n",
            "      BatchNorm2d-24             [-1, 20, 3, 3]              40\n",
            "             ReLU-25             [-1, 20, 3, 3]               0\n",
            "          Dropout-26             [-1, 20, 3, 3]               0\n",
            "        AvgPool2d-27             [-1, 20, 1, 1]               0\n",
            "           Conv2d-28             [-1, 10, 1, 1]             200\n",
            "================================================================\n",
            "Total params: 8,288\n",
            "Trainable params: 8,288\n",
            "Non-trainable params: 0\n",
            "----------------------------------------------------------------\n",
            "Input size (MB): 0.00\n",
            "Forward/backward pass size (MB): 0.73\n",
            "Params size (MB): 0.03\n",
            "Estimated Total Size (MB): 0.76\n",
            "----------------------------------------------------------------\n"
          ],
          "name": "stdout"
        }
      ]
    },
    {
      "cell_type": "markdown",
      "metadata": {
        "id": "GD0R232QL1e5",
        "colab_type": "text"
      },
      "source": [
        "**Define Train/Test functions with loss and accuracy calculations**"
      ]
    },
    {
      "cell_type": "code",
      "metadata": {
        "id": "G3JJub4eBRrZ",
        "colab_type": "code",
        "colab": {}
      },
      "source": [
        "from tqdm import tqdm\n",
        "\n",
        "train_losses = []\n",
        "test_losses = []\n",
        "train_acc = []\n",
        "test_acc = []\n",
        "\n",
        "def train(model, device, train_loader, optimizer, epoch):\n",
        "  model.train()\n",
        "  pbar = tqdm(train_loader)\n",
        "  correct = 0\n",
        "  processed = 0\n",
        "  for batch_idx, (data, target) in enumerate(pbar):\n",
        "    # get samples\n",
        "    data, target = data.to(device), target.to(device)\n",
        "\n",
        "    # Init\n",
        "    optimizer.zero_grad()\n",
        "    # In PyTorch, we need to set the gradients to zero before starting to do backpropragation because PyTorch accumulates the gradients on subsequent backward passes. \n",
        "    # Because of this, when you start your training loop, ideally you should zero out the gradients so that you do the parameter update correctly.\n",
        "\n",
        "    # Predict\n",
        "    y_pred = model(data)\n",
        "\n",
        "    # Calculate loss\n",
        "    loss = F.nll_loss(y_pred, target)\n",
        "    train_losses.append(loss)\n",
        "\n",
        "    # Backpropagation\n",
        "    loss.backward()\n",
        "    optimizer.step()\n",
        "\n",
        "    # Update pbar-tqdm\n",
        "    \n",
        "    pred = y_pred.argmax(dim=1, keepdim=True)  # get the index of the max log-probability\n",
        "    correct += pred.eq(target.view_as(pred)).sum().item()\n",
        "    processed += len(data)\n",
        "\n",
        "    pbar.set_description(desc= f'Loss={loss.item()} Batch_id={batch_idx} Accuracy={100*correct/processed:0.2f}')\n",
        "    train_acc.append(100*correct/processed)\n",
        "\n",
        "def test(model, device, test_loader):\n",
        "    model.eval()\n",
        "    test_loss = 0\n",
        "    correct = 0\n",
        "    with torch.no_grad():\n",
        "        for data, target in test_loader:\n",
        "            data, target = data.to(device), target.to(device)\n",
        "            output = model(data)\n",
        "            test_loss += F.nll_loss(output, target, reduction='sum').item()  # sum up batch loss\n",
        "            pred = output.argmax(dim=1, keepdim=True)  # get the index of the max log-probability\n",
        "            correct += pred.eq(target.view_as(pred)).sum().item()\n",
        "\n",
        "    test_loss /= len(test_loader.dataset)\n",
        "    test_losses.append(test_loss)\n",
        "\n",
        "    print('\\nTest set: Average loss: {:.4f}, Accuracy: {}/{} ({:.2f}%)\\n'.format(\n",
        "        test_loss, correct, len(test_loader.dataset),\n",
        "        100. * correct / len(test_loader.dataset)))\n",
        "    \n",
        "    test_acc.append(100. * correct / len(test_loader.dataset))"
      ],
      "execution_count": 0,
      "outputs": []
    },
    {
      "cell_type": "markdown",
      "metadata": {
        "id": "JbZRq07iMGpq",
        "colab_type": "text"
      },
      "source": [
        "**Training the MODEL with validation accuracy check**"
      ]
    },
    {
      "cell_type": "code",
      "metadata": {
        "id": "s_UWvGKCBRmk",
        "colab_type": "code",
        "outputId": "30560f85-8e0a-4d78-80b4-a68ddd552daa",
        "colab": {
          "base_uri": "https://localhost:8080/",
          "height": 1000
        }
      },
      "source": [
        "from torch.optim.lr_scheduler import StepLR\n",
        "\n",
        "model =  Net().to(device)\n",
        "optimizer = optim.SGD(model.parameters(), lr=0.1, momentum=0.9, weight_decay=0.0001)\n",
        "scheduler = StepLR(optimizer, step_size=11, gamma=0.1)\n",
        "\n",
        "EPOCHS = 40\n",
        "for epoch in range(EPOCHS):\n",
        "    print(\"EPOCH:\", epoch)\n",
        "    train(model, device, train_loader, optimizer, epoch)\n",
        "    test(model, device, test_loader)\n",
        "    scheduler.step()\n",
        "    print('')    "
      ],
      "execution_count": 0,
      "outputs": [
        {
          "output_type": "stream",
          "text": [
            "\r  0%|          | 0/938 [00:00<?, ?it/s]"
          ],
          "name": "stderr"
        },
        {
          "output_type": "stream",
          "text": [
            "EPOCH: 0\n"
          ],
          "name": "stdout"
        },
        {
          "output_type": "stream",
          "text": [
            "Loss=0.037674084305763245 Batch_id=937 Accuracy=94.89: 100%|██████████| 938/938 [00:18<00:00, 51.75it/s]\n",
            "  0%|          | 0/938 [00:00<?, ?it/s]"
          ],
          "name": "stderr"
        },
        {
          "output_type": "stream",
          "text": [
            "\n",
            "Test set: Average loss: 0.0525, Accuracy: 9852/10000 (98.52%)\n",
            "\n",
            "\n",
            "EPOCH: 1\n"
          ],
          "name": "stdout"
        },
        {
          "output_type": "stream",
          "text": [
            "Loss=0.02180001139640808 Batch_id=937 Accuracy=97.98: 100%|██████████| 938/938 [00:19<00:00, 49.17it/s]\n",
            "  0%|          | 0/938 [00:00<?, ?it/s]"
          ],
          "name": "stderr"
        },
        {
          "output_type": "stream",
          "text": [
            "\n",
            "Test set: Average loss: 0.0335, Accuracy: 9903/10000 (99.03%)\n",
            "\n",
            "\n",
            "EPOCH: 2\n"
          ],
          "name": "stdout"
        },
        {
          "output_type": "stream",
          "text": [
            "Loss=0.20204788446426392 Batch_id=937 Accuracy=98.34: 100%|██████████| 938/938 [00:17<00:00, 52.30it/s]\n",
            "  0%|          | 0/938 [00:00<?, ?it/s]"
          ],
          "name": "stderr"
        },
        {
          "output_type": "stream",
          "text": [
            "\n",
            "Test set: Average loss: 0.0389, Accuracy: 9881/10000 (98.81%)\n",
            "\n",
            "\n",
            "EPOCH: 3\n"
          ],
          "name": "stdout"
        },
        {
          "output_type": "stream",
          "text": [
            "Loss=0.008107930421829224 Batch_id=937 Accuracy=98.39: 100%|██████████| 938/938 [00:18<00:00, 51.52it/s]\n",
            "  0%|          | 0/938 [00:00<?, ?it/s]"
          ],
          "name": "stderr"
        },
        {
          "output_type": "stream",
          "text": [
            "\n",
            "Test set: Average loss: 0.0246, Accuracy: 9932/10000 (99.32%)\n",
            "\n",
            "\n",
            "EPOCH: 4\n"
          ],
          "name": "stdout"
        },
        {
          "output_type": "stream",
          "text": [
            "Loss=0.01287601888179779 Batch_id=937 Accuracy=98.55: 100%|██████████| 938/938 [00:18<00:00, 50.66it/s]\n",
            "  0%|          | 0/938 [00:00<?, ?it/s]"
          ],
          "name": "stderr"
        },
        {
          "output_type": "stream",
          "text": [
            "\n",
            "Test set: Average loss: 0.0285, Accuracy: 9908/10000 (99.08%)\n",
            "\n",
            "\n",
            "EPOCH: 5\n"
          ],
          "name": "stdout"
        },
        {
          "output_type": "stream",
          "text": [
            "Loss=0.0635627806186676 Batch_id=937 Accuracy=98.70: 100%|██████████| 938/938 [00:18<00:00, 51.68it/s]\n",
            "  0%|          | 0/938 [00:00<?, ?it/s]"
          ],
          "name": "stderr"
        },
        {
          "output_type": "stream",
          "text": [
            "\n",
            "Test set: Average loss: 0.0244, Accuracy: 9924/10000 (99.24%)\n",
            "\n",
            "\n",
            "EPOCH: 6\n"
          ],
          "name": "stdout"
        },
        {
          "output_type": "stream",
          "text": [
            "Loss=0.006541848182678223 Batch_id=937 Accuracy=98.77: 100%|██████████| 938/938 [00:17<00:00, 53.07it/s]\n",
            "  0%|          | 0/938 [00:00<?, ?it/s]"
          ],
          "name": "stderr"
        },
        {
          "output_type": "stream",
          "text": [
            "\n",
            "Test set: Average loss: 0.0315, Accuracy: 9902/10000 (99.02%)\n",
            "\n",
            "\n",
            "EPOCH: 7\n"
          ],
          "name": "stdout"
        },
        {
          "output_type": "stream",
          "text": [
            "Loss=0.019833505153656006 Batch_id=937 Accuracy=98.74: 100%|██████████| 938/938 [00:18<00:00, 51.65it/s]\n",
            "  0%|          | 0/938 [00:00<?, ?it/s]"
          ],
          "name": "stderr"
        },
        {
          "output_type": "stream",
          "text": [
            "\n",
            "Test set: Average loss: 0.0254, Accuracy: 9913/10000 (99.13%)\n",
            "\n",
            "\n",
            "EPOCH: 8\n"
          ],
          "name": "stdout"
        },
        {
          "output_type": "stream",
          "text": [
            "Loss=0.017033100128173828 Batch_id=937 Accuracy=98.76: 100%|██████████| 938/938 [00:17<00:00, 52.50it/s]\n",
            "  0%|          | 0/938 [00:00<?, ?it/s]"
          ],
          "name": "stderr"
        },
        {
          "output_type": "stream",
          "text": [
            "\n",
            "Test set: Average loss: 0.0285, Accuracy: 9918/10000 (99.18%)\n",
            "\n",
            "\n",
            "EPOCH: 9\n"
          ],
          "name": "stdout"
        },
        {
          "output_type": "stream",
          "text": [
            "Loss=0.003822341561317444 Batch_id=937 Accuracy=98.71: 100%|██████████| 938/938 [00:18<00:00, 51.99it/s]\n",
            "  0%|          | 0/938 [00:00<?, ?it/s]"
          ],
          "name": "stderr"
        },
        {
          "output_type": "stream",
          "text": [
            "\n",
            "Test set: Average loss: 0.0242, Accuracy: 9936/10000 (99.36%)\n",
            "\n",
            "\n",
            "EPOCH: 10\n"
          ],
          "name": "stdout"
        },
        {
          "output_type": "stream",
          "text": [
            "Loss=0.06874154508113861 Batch_id=937 Accuracy=98.82: 100%|██████████| 938/938 [00:18<00:00, 50.67it/s]\n",
            "  0%|          | 0/938 [00:00<?, ?it/s]"
          ],
          "name": "stderr"
        },
        {
          "output_type": "stream",
          "text": [
            "\n",
            "Test set: Average loss: 0.0293, Accuracy: 9907/10000 (99.07%)\n",
            "\n",
            "\n",
            "EPOCH: 11\n"
          ],
          "name": "stdout"
        },
        {
          "output_type": "stream",
          "text": [
            "Loss=0.0018555521965026855 Batch_id=937 Accuracy=99.21: 100%|██████████| 938/938 [00:18<00:00, 51.58it/s]\n",
            "  0%|          | 0/938 [00:00<?, ?it/s]"
          ],
          "name": "stderr"
        },
        {
          "output_type": "stream",
          "text": [
            "\n",
            "Test set: Average loss: 0.0180, Accuracy: 9949/10000 (99.49%)\n",
            "\n",
            "\n",
            "EPOCH: 12\n"
          ],
          "name": "stdout"
        },
        {
          "output_type": "stream",
          "text": [
            "Loss=0.028521493077278137 Batch_id=937 Accuracy=99.28: 100%|██████████| 938/938 [00:18<00:00, 51.19it/s]\n",
            "  0%|          | 0/938 [00:00<?, ?it/s]"
          ],
          "name": "stderr"
        },
        {
          "output_type": "stream",
          "text": [
            "\n",
            "Test set: Average loss: 0.0181, Accuracy: 9946/10000 (99.46%)\n",
            "\n",
            "\n",
            "EPOCH: 13\n"
          ],
          "name": "stdout"
        },
        {
          "output_type": "stream",
          "text": [
            "Loss=0.010306328535079956 Batch_id=937 Accuracy=99.28: 100%|██████████| 938/938 [00:18<00:00, 50.72it/s]\n",
            "  0%|          | 0/938 [00:00<?, ?it/s]"
          ],
          "name": "stderr"
        },
        {
          "output_type": "stream",
          "text": [
            "\n",
            "Test set: Average loss: 0.0174, Accuracy: 9948/10000 (99.48%)\n",
            "\n",
            "\n",
            "EPOCH: 14\n"
          ],
          "name": "stdout"
        },
        {
          "output_type": "stream",
          "text": [
            "Loss=0.0029596686363220215 Batch_id=937 Accuracy=99.31: 100%|██████████| 938/938 [00:17<00:00, 52.28it/s]\n",
            "  0%|          | 0/938 [00:00<?, ?it/s]"
          ],
          "name": "stderr"
        },
        {
          "output_type": "stream",
          "text": [
            "\n",
            "Test set: Average loss: 0.0163, Accuracy: 9951/10000 (99.51%)\n",
            "\n",
            "\n",
            "EPOCH: 15\n"
          ],
          "name": "stdout"
        },
        {
          "output_type": "stream",
          "text": [
            "Loss=0.008806034922599792 Batch_id=937 Accuracy=99.28: 100%|██████████| 938/938 [00:18<00:00, 51.44it/s]\n",
            "  0%|          | 0/938 [00:00<?, ?it/s]"
          ],
          "name": "stderr"
        },
        {
          "output_type": "stream",
          "text": [
            "\n",
            "Test set: Average loss: 0.0181, Accuracy: 9949/10000 (99.49%)\n",
            "\n",
            "\n",
            "EPOCH: 16\n"
          ],
          "name": "stdout"
        },
        {
          "output_type": "stream",
          "text": [
            "Loss=0.006896421313285828 Batch_id=937 Accuracy=99.35: 100%|██████████| 938/938 [00:18<00:00, 51.25it/s]\n",
            "  0%|          | 0/938 [00:00<?, ?it/s]"
          ],
          "name": "stderr"
        },
        {
          "output_type": "stream",
          "text": [
            "\n",
            "Test set: Average loss: 0.0168, Accuracy: 9954/10000 (99.54%)\n",
            "\n",
            "\n",
            "EPOCH: 17\n"
          ],
          "name": "stdout"
        },
        {
          "output_type": "stream",
          "text": [
            "Loss=0.06188496947288513 Batch_id=937 Accuracy=99.35: 100%|██████████| 938/938 [00:18<00:00, 52.01it/s]\n",
            "  0%|          | 0/938 [00:00<?, ?it/s]"
          ],
          "name": "stderr"
        },
        {
          "output_type": "stream",
          "text": [
            "\n",
            "Test set: Average loss: 0.0165, Accuracy: 9953/10000 (99.53%)\n",
            "\n",
            "\n",
            "EPOCH: 18\n"
          ],
          "name": "stdout"
        },
        {
          "output_type": "stream",
          "text": [
            "Loss=0.028464458882808685 Batch_id=937 Accuracy=99.38: 100%|██████████| 938/938 [00:18<00:00, 51.80it/s]\n",
            "  0%|          | 0/938 [00:00<?, ?it/s]"
          ],
          "name": "stderr"
        },
        {
          "output_type": "stream",
          "text": [
            "\n",
            "Test set: Average loss: 0.0160, Accuracy: 9960/10000 (99.60%)\n",
            "\n",
            "\n",
            "EPOCH: 19\n"
          ],
          "name": "stdout"
        },
        {
          "output_type": "stream",
          "text": [
            "Loss=0.007097259163856506 Batch_id=937 Accuracy=99.31: 100%|██████████| 938/938 [00:18<00:00, 50.72it/s]\n",
            "  0%|          | 0/938 [00:00<?, ?it/s]"
          ],
          "name": "stderr"
        },
        {
          "output_type": "stream",
          "text": [
            "\n",
            "Test set: Average loss: 0.0170, Accuracy: 9954/10000 (99.54%)\n",
            "\n",
            "\n",
            "EPOCH: 20\n"
          ],
          "name": "stdout"
        },
        {
          "output_type": "stream",
          "text": [
            "Loss=0.02113071084022522 Batch_id=937 Accuracy=99.34: 100%|██████████| 938/938 [00:18<00:00, 51.82it/s]\n",
            "  0%|          | 0/938 [00:00<?, ?it/s]"
          ],
          "name": "stderr"
        },
        {
          "output_type": "stream",
          "text": [
            "\n",
            "Test set: Average loss: 0.0175, Accuracy: 9951/10000 (99.51%)\n",
            "\n",
            "\n",
            "EPOCH: 21\n"
          ],
          "name": "stdout"
        },
        {
          "output_type": "stream",
          "text": [
            "Loss=0.0007341504096984863 Batch_id=937 Accuracy=99.34: 100%|██████████| 938/938 [00:18<00:00, 52.07it/s]\n",
            "  0%|          | 0/938 [00:00<?, ?it/s]"
          ],
          "name": "stderr"
        },
        {
          "output_type": "stream",
          "text": [
            "\n",
            "Test set: Average loss: 0.0169, Accuracy: 9949/10000 (99.49%)\n",
            "\n",
            "\n",
            "EPOCH: 22\n"
          ],
          "name": "stdout"
        },
        {
          "output_type": "stream",
          "text": [
            "Loss=0.002106964588165283 Batch_id=937 Accuracy=99.39: 100%|██████████| 938/938 [00:18<00:00, 50.83it/s]\n",
            "  0%|          | 0/938 [00:00<?, ?it/s]"
          ],
          "name": "stderr"
        },
        {
          "output_type": "stream",
          "text": [
            "\n",
            "Test set: Average loss: 0.0164, Accuracy: 9954/10000 (99.54%)\n",
            "\n",
            "\n",
            "EPOCH: 23\n"
          ],
          "name": "stdout"
        },
        {
          "output_type": "stream",
          "text": [
            "Loss=0.08078597486019135 Batch_id=937 Accuracy=99.40: 100%|██████████| 938/938 [00:18<00:00, 51.49it/s]\n",
            "  0%|          | 0/938 [00:00<?, ?it/s]"
          ],
          "name": "stderr"
        },
        {
          "output_type": "stream",
          "text": [
            "\n",
            "Test set: Average loss: 0.0152, Accuracy: 9958/10000 (99.58%)\n",
            "\n",
            "\n",
            "EPOCH: 24\n"
          ],
          "name": "stdout"
        },
        {
          "output_type": "stream",
          "text": [
            "Loss=0.0037519335746765137 Batch_id=937 Accuracy=99.39: 100%|██████████| 938/938 [00:17<00:00, 62.86it/s]\n",
            "  0%|          | 0/938 [00:00<?, ?it/s]"
          ],
          "name": "stderr"
        },
        {
          "output_type": "stream",
          "text": [
            "\n",
            "Test set: Average loss: 0.0155, Accuracy: 9958/10000 (99.58%)\n",
            "\n",
            "\n",
            "EPOCH: 25\n"
          ],
          "name": "stdout"
        },
        {
          "output_type": "stream",
          "text": [
            "Loss=0.014022201299667358 Batch_id=937 Accuracy=99.47: 100%|██████████| 938/938 [00:18<00:00, 51.30it/s]\n",
            "  0%|          | 0/938 [00:00<?, ?it/s]"
          ],
          "name": "stderr"
        },
        {
          "output_type": "stream",
          "text": [
            "\n",
            "Test set: Average loss: 0.0170, Accuracy: 9953/10000 (99.53%)\n",
            "\n",
            "\n",
            "EPOCH: 26\n"
          ],
          "name": "stdout"
        },
        {
          "output_type": "stream",
          "text": [
            "Loss=0.0306282639503479 Batch_id=937 Accuracy=99.45: 100%|██████████| 938/938 [00:18<00:00, 51.74it/s]\n",
            "  0%|          | 0/938 [00:00<?, ?it/s]"
          ],
          "name": "stderr"
        },
        {
          "output_type": "stream",
          "text": [
            "\n",
            "Test set: Average loss: 0.0157, Accuracy: 9956/10000 (99.56%)\n",
            "\n",
            "\n",
            "EPOCH: 27\n"
          ],
          "name": "stdout"
        },
        {
          "output_type": "stream",
          "text": [
            "Loss=0.003949835896492004 Batch_id=937 Accuracy=99.45: 100%|██████████| 938/938 [00:18<00:00, 51.08it/s]\n",
            "  0%|          | 0/938 [00:00<?, ?it/s]"
          ],
          "name": "stderr"
        },
        {
          "output_type": "stream",
          "text": [
            "\n",
            "Test set: Average loss: 0.0158, Accuracy: 9956/10000 (99.56%)\n",
            "\n",
            "\n",
            "EPOCH: 28\n"
          ],
          "name": "stdout"
        },
        {
          "output_type": "stream",
          "text": [
            "Loss=0.004835113883018494 Batch_id=937 Accuracy=99.42: 100%|██████████| 938/938 [00:18<00:00, 50.73it/s]\n",
            "  0%|          | 0/938 [00:00<?, ?it/s]"
          ],
          "name": "stderr"
        },
        {
          "output_type": "stream",
          "text": [
            "\n",
            "Test set: Average loss: 0.0154, Accuracy: 9959/10000 (99.59%)\n",
            "\n",
            "\n",
            "EPOCH: 29\n"
          ],
          "name": "stdout"
        },
        {
          "output_type": "stream",
          "text": [
            "Loss=0.010809659957885742 Batch_id=937 Accuracy=99.43: 100%|██████████| 938/938 [00:18<00:00, 51.33it/s]\n",
            "  0%|          | 0/938 [00:00<?, ?it/s]"
          ],
          "name": "stderr"
        },
        {
          "output_type": "stream",
          "text": [
            "\n",
            "Test set: Average loss: 0.0158, Accuracy: 9958/10000 (99.58%)\n",
            "\n",
            "\n",
            "EPOCH: 30\n"
          ],
          "name": "stdout"
        },
        {
          "output_type": "stream",
          "text": [
            "Loss=0.01807977259159088 Batch_id=937 Accuracy=99.39: 100%|██████████| 938/938 [00:18<00:00, 50.96it/s]\n",
            "  0%|          | 0/938 [00:00<?, ?it/s]"
          ],
          "name": "stderr"
        },
        {
          "output_type": "stream",
          "text": [
            "\n",
            "Test set: Average loss: 0.0157, Accuracy: 9958/10000 (99.58%)\n",
            "\n",
            "\n",
            "EPOCH: 31\n"
          ],
          "name": "stdout"
        },
        {
          "output_type": "stream",
          "text": [
            "Loss=0.017577633261680603 Batch_id=937 Accuracy=99.42: 100%|██████████| 938/938 [00:18<00:00, 51.01it/s]\n",
            "  0%|          | 0/938 [00:00<?, ?it/s]"
          ],
          "name": "stderr"
        },
        {
          "output_type": "stream",
          "text": [
            "\n",
            "Test set: Average loss: 0.0155, Accuracy: 9959/10000 (99.59%)\n",
            "\n",
            "\n",
            "EPOCH: 32\n"
          ],
          "name": "stdout"
        },
        {
          "output_type": "stream",
          "text": [
            "Loss=0.0030869990587234497 Batch_id=937 Accuracy=99.41: 100%|██████████| 938/938 [00:18<00:00, 52.03it/s]\n",
            "  0%|          | 0/938 [00:00<?, ?it/s]"
          ],
          "name": "stderr"
        },
        {
          "output_type": "stream",
          "text": [
            "\n",
            "Test set: Average loss: 0.0156, Accuracy: 9956/10000 (99.56%)\n",
            "\n",
            "\n",
            "EPOCH: 33\n"
          ],
          "name": "stdout"
        },
        {
          "output_type": "stream",
          "text": [
            "Loss=0.01061597466468811 Batch_id=937 Accuracy=99.41: 100%|██████████| 938/938 [00:18<00:00, 51.89it/s]\n",
            "  0%|          | 0/938 [00:00<?, ?it/s]"
          ],
          "name": "stderr"
        },
        {
          "output_type": "stream",
          "text": [
            "\n",
            "Test set: Average loss: 0.0158, Accuracy: 9955/10000 (99.55%)\n",
            "\n",
            "\n",
            "EPOCH: 34\n"
          ],
          "name": "stdout"
        },
        {
          "output_type": "stream",
          "text": [
            "Loss=0.020093530416488647 Batch_id=937 Accuracy=99.44: 100%|██████████| 938/938 [00:18<00:00, 50.26it/s]\n",
            "  0%|          | 0/938 [00:00<?, ?it/s]"
          ],
          "name": "stderr"
        },
        {
          "output_type": "stream",
          "text": [
            "\n",
            "Test set: Average loss: 0.0164, Accuracy: 9954/10000 (99.54%)\n",
            "\n",
            "\n",
            "EPOCH: 35\n"
          ],
          "name": "stdout"
        },
        {
          "output_type": "stream",
          "text": [
            "Loss=0.0625045895576477 Batch_id=937 Accuracy=99.42: 100%|██████████| 938/938 [00:18<00:00, 51.01it/s]\n",
            "  0%|          | 0/938 [00:00<?, ?it/s]"
          ],
          "name": "stderr"
        },
        {
          "output_type": "stream",
          "text": [
            "\n",
            "Test set: Average loss: 0.0158, Accuracy: 9958/10000 (99.58%)\n",
            "\n",
            "\n",
            "EPOCH: 36\n"
          ],
          "name": "stdout"
        },
        {
          "output_type": "stream",
          "text": [
            "Loss=0.0189419686794281 Batch_id=937 Accuracy=99.45: 100%|██████████| 938/938 [00:18<00:00, 51.21it/s]\n",
            "  0%|          | 0/938 [00:00<?, ?it/s]"
          ],
          "name": "stderr"
        },
        {
          "output_type": "stream",
          "text": [
            "\n",
            "Test set: Average loss: 0.0157, Accuracy: 9960/10000 (99.60%)\n",
            "\n",
            "\n",
            "EPOCH: 37\n"
          ],
          "name": "stdout"
        },
        {
          "output_type": "stream",
          "text": [
            "Loss=0.04364985227584839 Batch_id=937 Accuracy=99.40: 100%|██████████| 938/938 [00:18<00:00, 51.77it/s]\n",
            "  0%|          | 0/938 [00:00<?, ?it/s]"
          ],
          "name": "stderr"
        },
        {
          "output_type": "stream",
          "text": [
            "\n",
            "Test set: Average loss: 0.0158, Accuracy: 9949/10000 (99.49%)\n",
            "\n",
            "\n",
            "EPOCH: 38\n"
          ],
          "name": "stdout"
        },
        {
          "output_type": "stream",
          "text": [
            "Loss=0.003722071647644043 Batch_id=937 Accuracy=99.44: 100%|██████████| 938/938 [00:18<00:00, 51.38it/s]\n",
            "  0%|          | 0/938 [00:00<?, ?it/s]"
          ],
          "name": "stderr"
        },
        {
          "output_type": "stream",
          "text": [
            "\n",
            "Test set: Average loss: 0.0158, Accuracy: 9958/10000 (99.58%)\n",
            "\n",
            "\n",
            "EPOCH: 39\n"
          ],
          "name": "stdout"
        },
        {
          "output_type": "stream",
          "text": [
            "Loss=0.05685555934906006 Batch_id=937 Accuracy=99.43: 100%|██████████| 938/938 [00:18<00:00, 50.65it/s]\n"
          ],
          "name": "stderr"
        },
        {
          "output_type": "stream",
          "text": [
            "\n",
            "Test set: Average loss: 0.0156, Accuracy: 9953/10000 (99.53%)\n",
            "\n",
            "\n"
          ],
          "name": "stdout"
        }
      ]
    },
    {
      "cell_type": "code",
      "metadata": {
        "id": "Deu5dBoZBRkh",
        "colab_type": "code",
        "outputId": "8c936865-1c6c-4161-da5a-56e074459e10",
        "colab": {
          "base_uri": "https://localhost:8080/",
          "height": 624
        }
      },
      "source": [
        "import matplotlib.pyplot as plt\n",
        "\n",
        "fig, axs = plt.subplots(2,2,figsize=(15,10))\n",
        "axs[0, 0].plot(train_losses)\n",
        "axs[0, 0].set_title(\"Training Loss\")\n",
        "axs[1, 0].plot(train_acc)\n",
        "axs[1, 0].set_title(\"Training Accuracy\")\n",
        "axs[0, 1].plot(test_losses)\n",
        "axs[0, 1].set_title(\"Test Loss\")\n",
        "axs[1, 1].plot(test_acc)\n",
        "axs[1, 1].set_title(\"Test Accuracy\")"
      ],
      "execution_count": 0,
      "outputs": [
        {
          "output_type": "execute_result",
          "data": {
            "text/plain": [
              "Text(0.5, 1.0, 'Test Accuracy')"
            ]
          },
          "metadata": {
            "tags": []
          },
          "execution_count": 46
        },
        {
          "output_type": "display_data",
          "data": {
            "image/png": "[encoded data removed]",
            "text/plain": [
              "<Figure size 1080x720 with 4 Axes>"
            ]
          },
          "metadata": {
            "tags": []
          }
        }
      ]
    },
    {
      "cell_type": "code",
      "metadata": {
        "id": "tw6akOzLkUhp",
        "colab_type": "code",
        "colab": {}
      },
      "source": [
        "import matplotlib.pyplot as plt\n",
        "\n",
        "def test_misclassified(model, device, test_loader, nimage = 25):\n",
        "    model.eval()\n",
        "    images = []\n",
        "    preds = []\n",
        "    actual = []\n",
        "    #test_loss = 0\n",
        "    #correct = 0\n",
        "    count = 0\n",
        "    with torch.no_grad():\n",
        "        for data, target in test_loader:\n",
        "            data, target = data.to(device), target.to(device)\n",
        "            output = model(data)\n",
        "            #test_loss += F.nll_loss(output, target, reduction='sum').item()  # sum up batch loss\n",
        "            pred = output.argmax(dim=1, keepdim=True).view_as(target)  # get the index of the max log-probability\n",
        "            #correct += pred.eq(target.view_as(pred)).sum().item()\n",
        "            for a,b,c in zip(data, target, pred):\n",
        "              if b!=c:\n",
        "                a = a.cpu().numpy()\n",
        "                b = b.cpu().numpy()\n",
        "                c = c.cpu().numpy()\n",
        "                a = (a*0.3081)+0.1307\n",
        "                images.append(a)\n",
        "                preds.append(c)\n",
        "                actual.append(b)\n",
        "                count += 1\n",
        "              if count == nimage:\n",
        "                return images, actual, preds"
      ],
      "execution_count": 0,
      "outputs": []
    },
    {
      "cell_type": "code",
      "metadata": {
        "id": "ZBGunSMLkUdU",
        "colab_type": "code",
        "colab": {}
      },
      "source": [
        "def plot_images(images,actual,preds,nimage=25):\n",
        "  fig = plt.figure(figsize=(15,18))\n",
        "  for i in range(nimage):\n",
        "    ax = fig.add_subplot(5,5,i+1)\n",
        "    ax.imshow(np.rollaxis(images[i],0,3).squeeze(),cmap='gray')\n",
        "    #ax.axis('off')\n",
        "    ax.set_title(\"Actual: \" + str(actual[i]) + \" predicted:  \" + str(preds[i]))\n",
        "  plt.show()"
      ],
      "execution_count": 0,
      "outputs": []
    },
    {
      "cell_type": "code",
      "metadata": {
        "id": "Gy4bzn-OkUYg",
        "colab_type": "code",
        "outputId": "df3385cb-906f-4676-d86c-5905b70e496e",
        "colab": {
          "base_uri": "https://localhost:8080/",
          "height": 1000
        }
      },
      "source": [
        "images, actuals, preds = test_misclassified(model,device,test_loader)\n",
        "plot_images(images,actuals,preds)"
      ],
      "execution_count": 0,
      "outputs": [
        {
          "output_type": "display_data",
          "data": {
            "image/png": "[encoded data removed]",
            "text/plain": [
              "<Figure size 1080x1296 with 25 Axes>"
            ]
          },
          "metadata": {
            "tags": []
          }
        }
      ]
    },
    {
      "cell_type": "code",
      "metadata": {
        "id": "TDjrorIekUPD",
        "colab_type": "code",
        "colab": {}
      },
      "source": [
        ""
      ],
      "execution_count": 0,
      "outputs": []
    },
    {
      "cell_type": "code",
      "metadata": {
        "id": "lJO9rnvSBRiY",
        "colab_type": "code",
        "outputId": "136b1990-0e68-4083-f4d9-c7d744aeaa90",
        "colab": {
          "base_uri": "https://localhost:8080/",
          "height": 697
        }
      },
      "source": [
        "test_losses"
      ],
      "execution_count": 0,
      "outputs": [
        {
          "output_type": "execute_result",
          "data": {
            "text/plain": [
              "[0.052508075308799744,\n",
              " 0.03345730826854706,\n",
              " 0.03889703938961029,\n",
              " 0.024563658142089845,\n",
              " 0.028511730742454527,\n",
              " 0.02442500693798065,\n",
              " 0.031488150882720944,\n",
              " 0.025444161653518677,\n",
              " 0.028513940596580505,\n",
              " 0.02417308053970337,\n",
              " 0.029250298070907593,\n",
              " 0.018021013832092286,\n",
              " 0.018065582847595216,\n",
              " 0.017420833325386048,\n",
              " 0.016255628514289855,\n",
              " 0.018138826763629913,\n",
              " 0.016769290554523468,\n",
              " 0.01652405891418457,\n",
              " 0.016031511807441712,\n",
              " 0.017012686562538147,\n",
              " 0.01751996147632599,\n",
              " 0.016880241179466248,\n",
              " 0.016444201052188873,\n",
              " 0.015224508547782898,\n",
              " 0.015507036471366883,\n",
              " 0.01701075575351715,\n",
              " 0.015726862943172455,\n",
              " 0.015829627203941345,\n",
              " 0.015360989463329314,\n",
              " 0.015815583062171935,\n",
              " 0.01570673050880432,\n",
              " 0.015506615710258484,\n",
              " 0.015570204412937164,\n",
              " 0.015844723117351533,\n",
              " 0.01639365439414978,\n",
              " 0.015752777528762817,\n",
              " 0.015737848925590516,\n",
              " 0.015842460441589355,\n",
              " 0.015773168325424195,\n",
              " 0.015561237275600433]"
            ]
          },
          "metadata": {
            "tags": []
          },
          "execution_count": 50
        }
      ]
    },
    {
      "cell_type": "code",
      "metadata": {
        "id": "acaRSQ5EBRdn",
        "colab_type": "code",
        "outputId": "b3995896-8662-41e6-aae8-d3aea2ae28ae",
        "colab": {
          "base_uri": "https://localhost:8080/",
          "height": 697
        }
      },
      "source": [
        "test_acc"
      ],
      "execution_count": 0,
      "outputs": [
        {
          "output_type": "execute_result",
          "data": {
            "text/plain": [
              "[98.52,\n",
              " 99.03,\n",
              " 98.81,\n",
              " 99.32,\n",
              " 99.08,\n",
              " 99.24,\n",
              " 99.02,\n",
              " 99.13,\n",
              " 99.18,\n",
              " 99.36,\n",
              " 99.07,\n",
              " 99.49,\n",
              " 99.46,\n",
              " 99.48,\n",
              " 99.51,\n",
              " 99.49,\n",
              " 99.54,\n",
              " 99.53,\n",
              " 99.6,\n",
              " 99.54,\n",
              " 99.51,\n",
              " 99.49,\n",
              " 99.54,\n",
              " 99.58,\n",
              " 99.58,\n",
              " 99.53,\n",
              " 99.56,\n",
              " 99.56,\n",
              " 99.59,\n",
              " 99.58,\n",
              " 99.58,\n",
              " 99.59,\n",
              " 99.56,\n",
              " 99.55,\n",
              " 99.54,\n",
              " 99.58,\n",
              " 99.6,\n",
              " 99.49,\n",
              " 99.58,\n",
              " 99.53]"
            ]
          },
          "metadata": {
            "tags": []
          },
          "execution_count": 51
        }
      ]
    },
    {
      "cell_type": "code",
      "metadata": {
        "id": "tanCsUJrBRbR",
        "colab_type": "code",
        "outputId": "c3c557df-f9b9-4763-c64c-c0ad654e4b6f",
        "colab": {
          "base_uri": "https://localhost:8080/",
          "height": 697
        }
      },
      "source": [
        "test_acc"
      ],
      "execution_count": 0,
      "outputs": [
        {
          "output_type": "execute_result",
          "data": {
            "text/plain": [
              "[98.52,\n",
              " 99.03,\n",
              " 98.81,\n",
              " 99.32,\n",
              " 99.08,\n",
              " 99.24,\n",
              " 99.02,\n",
              " 99.13,\n",
              " 99.18,\n",
              " 99.36,\n",
              " 99.07,\n",
              " 99.49,\n",
              " 99.46,\n",
              " 99.48,\n",
              " 99.51,\n",
              " 99.49,\n",
              " 99.54,\n",
              " 99.53,\n",
              " 99.6,\n",
              " 99.54,\n",
              " 99.51,\n",
              " 99.49,\n",
              " 99.54,\n",
              " 99.58,\n",
              " 99.58,\n",
              " 99.53,\n",
              " 99.56,\n",
              " 99.56,\n",
              " 99.59,\n",
              " 99.58,\n",
              " 99.58,\n",
              " 99.59,\n",
              " 99.56,\n",
              " 99.55,\n",
              " 99.54,\n",
              " 99.58,\n",
              " 99.6,\n",
              " 99.49,\n",
              " 99.58,\n",
              " 99.53]"
            ]
          },
          "metadata": {
            "tags": []
          },
          "execution_count": 52
        }
      ]
    },
    {
      "cell_type": "code",
      "metadata": {
        "id": "iseRnQleBRUR",
        "colab_type": "code",
        "colab": {}
      },
      "source": [
        ""
      ],
      "execution_count": 0,
      "outputs": []
    },
    {
      "cell_type": "code",
      "metadata": {
        "id": "PPk3J9XKBRPS",
        "colab_type": "code",
        "colab": {}
      },
      "source": [
        ""
      ],
      "execution_count": 0,
      "outputs": []
    }
  ]
}
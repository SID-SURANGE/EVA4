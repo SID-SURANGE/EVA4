{
  "nbformat": 4,
  "nbformat_minor": 0,
  "metadata": {
    "colab": {
      "name": "EVA4S6_CODE1_WITHOUT_L1_L2.ipynb",
      "provenance": [],
      "collapsed_sections": [],
      "include_colab_link": true
    },
    "kernelspec": {
      "name": "python3",
      "display_name": "Python 3"
    },
    "accelerator": "GPU"
  },
  "cells": [
    {
      "cell_type": "markdown",
      "metadata": {
        "id": "view-in-github",
        "colab_type": "text"
      },
      "source": [
        "<a href=\"https://colab.research.google.com/github/pratikiiitb2013/EVA4/blob/master/Session6/EVA4S6_CODE1_WITHOUT_L1_L2.ipynb\" target=\"_parent\"><img src=\"https://colab.research.google.com/assets/colab-badge.svg\" alt=\"Open In Colab\"/></a>"
      ]
    },
    {
      "cell_type": "markdown",
      "metadata": {
        "id": "Ff97MHhy585m",
        "colab_type": "text"
      },
      "source": [
        "**IMPORTS**"
      ]
    },
    {
      "cell_type": "code",
      "metadata": {
        "id": "IbjR0NNq4CGQ",
        "colab_type": "code",
        "colab": {}
      },
      "source": [
        "from __future__ import print_function\n",
        "import torch\n",
        "import torch.nn as nn\n",
        "import torch.nn.functional as F\n",
        "import torch.optim as optim\n",
        "from torchvision import datasets, transforms\n",
        "import numpy as np"
      ],
      "execution_count": 0,
      "outputs": []
    },
    {
      "cell_type": "markdown",
      "metadata": {
        "id": "6ozd89IF6BSA",
        "colab_type": "text"
      },
      "source": [
        "**DEFINE TEST/TRAIN TRANSFORMATIONS**"
      ]
    },
    {
      "cell_type": "code",
      "metadata": {
        "id": "fZrDjgeu4OHp",
        "colab_type": "code",
        "colab": {}
      },
      "source": [
        "# Train Phase transformations\n",
        "train_transforms = transforms.Compose([ \n",
        "                                       transforms.RandomRotation((-4.0, 4.0), fill=(1,)),\n",
        "                                       transforms.ToTensor(),\n",
        "                                       transforms.Normalize((0.1307,), (0.3081,)) # The mean and std have to be sequences (e.g., tuples), therefore you should add a comma after the values. \n",
        "                                       # Note the difference between (0.1307) and (0.1307,)\n",
        "                                       ])\n",
        "\n",
        "# Test Phase transformations\n",
        "test_transforms = transforms.Compose([\n",
        "                                       transforms.ToTensor(),\n",
        "                                       transforms.Normalize((0.1307,), (0.3081,))\n",
        "                                       ])\n"
      ],
      "execution_count": 0,
      "outputs": []
    },
    {
      "cell_type": "markdown",
      "metadata": {
        "id": "k9GUgjCf6I5P",
        "colab_type": "text"
      },
      "source": [
        "**LOAD MNIST DATA**"
      ]
    },
    {
      "cell_type": "code",
      "metadata": {
        "id": "fnWsraFz4k8N",
        "colab_type": "code",
        "colab": {}
      },
      "source": [
        "train = datasets.MNIST('./data', train=True, transform=train_transforms, download=True)\n",
        "test = datasets.MNIST('./data',train=False, transform=test_transforms, download=True)\n"
      ],
      "execution_count": 0,
      "outputs": []
    },
    {
      "cell_type": "markdown",
      "metadata": {
        "id": "F0eyGuTa55iD",
        "colab_type": "text"
      },
      "source": [
        "**DATA LOADERS**"
      ]
    },
    {
      "cell_type": "code",
      "metadata": {
        "id": "Stbxb7N55zJ5",
        "colab_type": "code",
        "outputId": "09f5cf54-c6cc-4087-8eca-619a78c7bd3b",
        "colab": {
          "base_uri": "https://localhost:8080/",
          "height": 34
        }
      },
      "source": [
        "SEED = 1\n",
        "np.random.seed(42)\n",
        "torch.manual_seed(1)\n",
        "\n",
        "#check for cuda\n",
        "cuda = torch.cuda.is_available()\n",
        "print('cuda available', cuda)\n",
        "\n",
        "if cuda:\n",
        "  torch.cuda.manual_seed(1)\n",
        "\n",
        "#dataloader arguments\n",
        "dataloader_args = dict(shuffle=True, batch_size=64, num_workers=4, pin_memory=True) if cuda else dict(shuffle=True, batch_size=64)\n",
        "\n",
        "#train dataloader\n",
        "train_loader = torch.utils.data.DataLoader(train, **dataloader_args)\n",
        "\n",
        "#test dataloader\n",
        "test_loader = torch.utils.data.DataLoader(test, **dataloader_args)"
      ],
      "execution_count": 0,
      "outputs": [
        {
          "output_type": "stream",
          "text": [
            "cuda available True\n"
          ],
          "name": "stdout"
        }
      ]
    },
    {
      "cell_type": "markdown",
      "metadata": {
        "id": "zExuS7aOBLwC",
        "colab_type": "text"
      },
      "source": [
        "**Data Stats**"
      ]
    },
    {
      "cell_type": "code",
      "metadata": {
        "id": "EZwSgUio67QG",
        "colab_type": "code",
        "outputId": "e17f3a29-3b61-423a-fcfe-4200990cdd3a",
        "colab": {
          "base_uri": "https://localhost:8080/",
          "height": 51
        }
      },
      "source": [
        "# We'd need to convert it into Numpy! Remember above we have converted it into tensors already\n",
        "# train_data = train.train_data\n",
        "# train_data = train.transform(train_data.numpy())\n",
        "\n",
        "# print('[Train]')\n",
        "# print(' - Numpy Shape:', train.train_data.cpu().numpy().shape)\n",
        "# print(' - Tensor Shape:', train.train_data.size())\n",
        "# print(' - min:', torch.min(train_data))\n",
        "# print(' - max:', torch.max(train_data))\n",
        "# print(' - mean:', torch.mean(train_data))\n",
        "# print(' - std:', torch.std(train_data))\n",
        "# print(' - var:', torch.var(train_data))\n",
        "\n",
        "dataiter = iter(train_loader)\n",
        "images, labels = dataiter.next()\n",
        "\n",
        "print(images.shape)\n",
        "print(labels.shape)"
      ],
      "execution_count": 0,
      "outputs": [
        {
          "output_type": "stream",
          "text": [
            "torch.Size([64, 1, 28, 28])\n",
            "torch.Size([64])\n"
          ],
          "name": "stdout"
        }
      ]
    },
    {
      "cell_type": "markdown",
      "metadata": {
        "id": "0apyJwaOCF7Q",
        "colab_type": "text"
      },
      "source": [
        "**MODEL**"
      ]
    },
    {
      "cell_type": "code",
      "metadata": {
        "id": "tCLObrroBHpC",
        "colab_type": "code",
        "colab": {}
      },
      "source": [
        "class Net(nn.Module):\n",
        "     def __init__(self):\n",
        "       super(Net, self).__init__()\n",
        "       #Input block\n",
        "       self.convblock1 = nn.Sequential(\n",
        "            nn.Conv2d(in_channels=1, out_channels=12, kernel_size=(3, 3), padding=0, bias=False),\n",
        "            nn.BatchNorm2d(12),\n",
        "            nn.ReLU(),\n",
        "            nn.Dropout(0.05)\n",
        "       ) # output_size = 26\n",
        "\n",
        "       #CONV BLOCK 1\n",
        "       self.convblock2 = nn.Sequential(\n",
        "            nn.Conv2d(in_channels=12, out_channels=14, kernel_size=(3, 3), padding=1, bias=False),\n",
        "            nn.BatchNorm2d(14),\n",
        "            nn.ReLU(),   \n",
        "            nn.Dropout(0.05)\n",
        "       ) # output_size = 26\n",
        "\n",
        "      #  self.convblock3 = nn.Sequential(\n",
        "      #       nn.Conv2d(in_channels=12, out_channels=12, kernel_size=(3,3), padding=0, bias=False),\n",
        "      #       nn.ReLU(),\n",
        "      #       nn.BatchNorm2d(12),\n",
        "      #       nn.Dropout(0.05)\n",
        "      #  ) #output size = 22\n",
        "      \n",
        "       #TRANSITION BLOCK\n",
        "       self.pool1 = nn.MaxPool2d((2,2))  #out = 13\n",
        "       self.convblock4 = nn.Sequential(\n",
        "            nn.Conv2d(in_channels=14, out_channels=10, kernel_size=(1,1),padding=0, bias=False),\n",
        "            nn.BatchNorm2d(10),\n",
        "            nn.ReLU(),\n",
        "            nn.Dropout(0.05)\n",
        "       ) #output = 13\n",
        "\n",
        "       #CONV BLOCK 2\n",
        "       self.convblock5 = nn.Sequential(\n",
        "            nn.Conv2d(in_channels=10, out_channels=14, kernel_size=(3, 3), padding=0, bias=False),\n",
        "            nn.BatchNorm2d(14),\n",
        "            nn.ReLU(),\n",
        "            nn.Dropout(0.05)\n",
        "       ) # output_size = 11\n",
        "\n",
        "       self.convblock6 = nn.Sequential(\n",
        "            nn.Conv2d(in_channels=14, out_channels=16, kernel_size=(3,3), padding=1, bias=False),\n",
        "            nn.BatchNorm2d(16),\n",
        "            nn.ReLU(),\n",
        "            nn.Dropout(0.05)\n",
        "       ) #out = 11\n",
        "\n",
        "       self.pool2 = nn.MaxPool2d((2,2)) #out = 5\n",
        "       self.convblock7 = nn.Sequential(\n",
        "            nn.Conv2d(in_channels=16, out_channels=20, kernel_size=(3,3), padding=0, bias=False),\n",
        "            nn.BatchNorm2d(20),\n",
        "            nn.ReLU(),\n",
        "            nn.Dropout(0.1)\n",
        "       ) #out = 5\n",
        "\n",
        "      #  self.convblock71 = nn.Sequential(\n",
        "      #       nn.Conv2d(in_channels=14, out_channels=16, kernel_size=(3,3), padding=0, bias=False),\n",
        "      #       nn.BatchNorm2d(16),\n",
        "      #       nn.ReLU(),\n",
        "      #       nn.Dropout(0.05)\n",
        "      #  ) #out = 3\n",
        "\n",
        "       #OUTPUT BLOCK\n",
        "\n",
        "      #  self.convblock8 = nn.Sequential(\n",
        "      #       nn.Conv2d(in_channels=16, out_channels=16, kernel_size=(3,3), padding=1, bias=False),\n",
        "      #       nn.BatchNorm2d(16),\n",
        "      #       nn.ReLU(),\n",
        "      #       nn.Dropout(0.05)\n",
        "      #  ) #out = 3\n",
        "\n",
        "       self.gap = nn.Sequential(\n",
        "            nn.AvgPool2d(kernel_size=3)\n",
        "        ) # output_size = 1\n",
        "\n",
        "       self.convblock9 = nn.Sequential(\n",
        "            nn.Conv2d(in_channels=20, out_channels=10, kernel_size=(1,1), padding=0, bias=False)\n",
        "            #nn.Linear(20,out_features=10)\n",
        "        )\n",
        "\n",
        "     def forward(self, x):\n",
        "       x = self.convblock1(x)\n",
        "       x = self.convblock2(x)\n",
        "       #x = self.convblock3(x)\n",
        "       x = self.pool1(x)\n",
        "       x = self.convblock4(x)\n",
        "       x = self.convblock5(x)\n",
        "       x = self.convblock6(x)\n",
        "       x = self.pool2(x)\n",
        "       x = self.convblock7(x)\n",
        "       #x = self.convblock71(x)\n",
        "       #x = self.convblock8(x)\n",
        "       x = self.gap(x)\n",
        "       x = self.convblock9(x)\n",
        "       x = x.view(-1, 10)\n",
        "       return F.log_softmax(x, dim=-1)"
      ],
      "execution_count": 0,
      "outputs": []
    },
    {
      "cell_type": "code",
      "metadata": {
        "id": "MxBIa8DsBRw9",
        "colab_type": "code",
        "outputId": "3159215d-4607-48b9-8d37-1e39e37a9c7e",
        "colab": {
          "base_uri": "https://localhost:8080/",
          "height": 731
        }
      },
      "source": [
        "from torchsummary import summary\n",
        "use_cuda = torch.cuda.is_available()\n",
        "device = torch.device(\"cuda\" if use_cuda else \"cpu\")\n",
        "print(device)\n",
        "model = Net().to(device)\n",
        "summary(model, input_size=(1, 28, 28))"
      ],
      "execution_count": 0,
      "outputs": [
        {
          "output_type": "stream",
          "text": [
            "cuda\n",
            "----------------------------------------------------------------\n",
            "        Layer (type)               Output Shape         Param #\n",
            "================================================================\n",
            "            Conv2d-1           [-1, 12, 26, 26]             108\n",
            "       BatchNorm2d-2           [-1, 12, 26, 26]              24\n",
            "              ReLU-3           [-1, 12, 26, 26]               0\n",
            "           Dropout-4           [-1, 12, 26, 26]               0\n",
            "            Conv2d-5           [-1, 14, 26, 26]           1,512\n",
            "       BatchNorm2d-6           [-1, 14, 26, 26]              28\n",
            "              ReLU-7           [-1, 14, 26, 26]               0\n",
            "           Dropout-8           [-1, 14, 26, 26]               0\n",
            "         MaxPool2d-9           [-1, 14, 13, 13]               0\n",
            "           Conv2d-10           [-1, 10, 13, 13]             140\n",
            "      BatchNorm2d-11           [-1, 10, 13, 13]              20\n",
            "             ReLU-12           [-1, 10, 13, 13]               0\n",
            "          Dropout-13           [-1, 10, 13, 13]               0\n",
            "           Conv2d-14           [-1, 14, 11, 11]           1,260\n",
            "      BatchNorm2d-15           [-1, 14, 11, 11]              28\n",
            "             ReLU-16           [-1, 14, 11, 11]               0\n",
            "          Dropout-17           [-1, 14, 11, 11]               0\n",
            "           Conv2d-18           [-1, 16, 11, 11]           2,016\n",
            "      BatchNorm2d-19           [-1, 16, 11, 11]              32\n",
            "             ReLU-20           [-1, 16, 11, 11]               0\n",
            "          Dropout-21           [-1, 16, 11, 11]               0\n",
            "        MaxPool2d-22             [-1, 16, 5, 5]               0\n",
            "           Conv2d-23             [-1, 20, 3, 3]           2,880\n",
            "      BatchNorm2d-24             [-1, 20, 3, 3]              40\n",
            "             ReLU-25             [-1, 20, 3, 3]               0\n",
            "          Dropout-26             [-1, 20, 3, 3]               0\n",
            "        AvgPool2d-27             [-1, 20, 1, 1]               0\n",
            "           Conv2d-28             [-1, 10, 1, 1]             200\n",
            "================================================================\n",
            "Total params: 8,288\n",
            "Trainable params: 8,288\n",
            "Non-trainable params: 0\n",
            "----------------------------------------------------------------\n",
            "Input size (MB): 0.00\n",
            "Forward/backward pass size (MB): 0.73\n",
            "Params size (MB): 0.03\n",
            "Estimated Total Size (MB): 0.76\n",
            "----------------------------------------------------------------\n"
          ],
          "name": "stdout"
        }
      ]
    },
    {
      "cell_type": "markdown",
      "metadata": {
        "id": "GD0R232QL1e5",
        "colab_type": "text"
      },
      "source": [
        "**Define Train/Test functions with loss and accuracy calculations**"
      ]
    },
    {
      "cell_type": "code",
      "metadata": {
        "id": "G3JJub4eBRrZ",
        "colab_type": "code",
        "colab": {}
      },
      "source": [
        "from tqdm import tqdm\n",
        "\n",
        "train_losses = []\n",
        "test_losses = []\n",
        "train_acc = []\n",
        "test_acc = []\n",
        "\n",
        "def train(model, device, train_loader, optimizer, epoch):\n",
        "  model.train()\n",
        "  pbar = tqdm(train_loader)\n",
        "  correct = 0\n",
        "  processed = 0\n",
        "  for batch_idx, (data, target) in enumerate(pbar):\n",
        "    # get samples\n",
        "    data, target = data.to(device), target.to(device)\n",
        "\n",
        "    # Init\n",
        "    optimizer.zero_grad()\n",
        "    # In PyTorch, we need to set the gradients to zero before starting to do backpropragation because PyTorch accumulates the gradients on subsequent backward passes. \n",
        "    # Because of this, when you start your training loop, ideally you should zero out the gradients so that you do the parameter update correctly.\n",
        "\n",
        "    # Predict\n",
        "    y_pred = model(data)\n",
        "\n",
        "    # Calculate loss\n",
        "    loss = F.nll_loss(y_pred, target)\n",
        "    train_losses.append(loss)\n",
        "\n",
        "    # Backpropagation\n",
        "    loss.backward()\n",
        "    optimizer.step()\n",
        "\n",
        "    # Update pbar-tqdm\n",
        "    \n",
        "    pred = y_pred.argmax(dim=1, keepdim=True)  # get the index of the max log-probability\n",
        "    correct += pred.eq(target.view_as(pred)).sum().item()\n",
        "    processed += len(data)\n",
        "\n",
        "    pbar.set_description(desc= f'Loss={loss.item()} Batch_id={batch_idx} Accuracy={100*correct/processed:0.2f}')\n",
        "    train_acc.append(100*correct/processed)\n",
        "\n",
        "def test(model, device, test_loader):\n",
        "    model.eval()\n",
        "    test_loss = 0\n",
        "    correct = 0\n",
        "    with torch.no_grad():\n",
        "        for data, target in test_loader:\n",
        "            data, target = data.to(device), target.to(device)\n",
        "            output = model(data)\n",
        "            test_loss += F.nll_loss(output, target, reduction='sum').item()  # sum up batch loss\n",
        "            pred = output.argmax(dim=1, keepdim=True)  # get the index of the max log-probability\n",
        "            correct += pred.eq(target.view_as(pred)).sum().item()\n",
        "\n",
        "    test_loss /= len(test_loader.dataset)\n",
        "    test_losses.append(test_loss)\n",
        "\n",
        "    print('\\nTest set: Average loss: {:.4f}, Accuracy: {}/{} ({:.2f}%)\\n'.format(\n",
        "        test_loss, correct, len(test_loader.dataset),\n",
        "        100. * correct / len(test_loader.dataset)))\n",
        "    \n",
        "    test_acc.append(100. * correct / len(test_loader.dataset))"
      ],
      "execution_count": 0,
      "outputs": []
    },
    {
      "cell_type": "markdown",
      "metadata": {
        "id": "JbZRq07iMGpq",
        "colab_type": "text"
      },
      "source": [
        "**Training the MODEL with validation accuracy check**"
      ]
    },
    {
      "cell_type": "code",
      "metadata": {
        "id": "s_UWvGKCBRmk",
        "colab_type": "code",
        "outputId": "ca863083-5904-4359-aa0d-e80876eb6130",
        "colab": {
          "base_uri": "https://localhost:8080/",
          "height": 1000
        }
      },
      "source": [
        "from torch.optim.lr_scheduler import StepLR\n",
        "\n",
        "model =  Net().to(device)\n",
        "optimizer = optim.SGD(model.parameters(), lr=0.1, momentum=0.9)\n",
        "scheduler = StepLR(optimizer, step_size=11, gamma=0.1)\n",
        "\n",
        "EPOCHS = 40\n",
        "for epoch in range(EPOCHS):\n",
        "    print(\"EPOCH:\", epoch)\n",
        "    train(model, device, train_loader, optimizer, epoch)\n",
        "    test(model, device, test_loader)\n",
        "    scheduler.step()\n",
        "    print('')    "
      ],
      "execution_count": 0,
      "outputs": [
        {
          "output_type": "stream",
          "text": [
            "\r  0%|          | 0/938 [00:00<?, ?it/s]"
          ],
          "name": "stderr"
        },
        {
          "output_type": "stream",
          "text": [
            "EPOCH: 0\n"
          ],
          "name": "stdout"
        },
        {
          "output_type": "stream",
          "text": [
            "Loss=0.15976768732070923 Batch_id=937 Accuracy=94.96: 100%|██████████| 938/938 [00:17<00:00, 54.74it/s]\n",
            "  0%|          | 0/938 [00:00<?, ?it/s]"
          ],
          "name": "stderr"
        },
        {
          "output_type": "stream",
          "text": [
            "\n",
            "Test set: Average loss: 0.0521, Accuracy: 9833/10000 (98.33%)\n",
            "\n",
            "\n",
            "EPOCH: 1\n"
          ],
          "name": "stdout"
        },
        {
          "output_type": "stream",
          "text": [
            "Loss=0.0040689557790756226 Batch_id=937 Accuracy=97.99: 100%|██████████| 938/938 [00:17<00:00, 54.62it/s]\n",
            "  0%|          | 0/938 [00:00<?, ?it/s]"
          ],
          "name": "stderr"
        },
        {
          "output_type": "stream",
          "text": [
            "\n",
            "Test set: Average loss: 0.0283, Accuracy: 9914/10000 (99.14%)\n",
            "\n",
            "\n",
            "EPOCH: 2\n"
          ],
          "name": "stdout"
        },
        {
          "output_type": "stream",
          "text": [
            "Loss=0.07416311651468277 Batch_id=937 Accuracy=98.40: 100%|██████████| 938/938 [00:17<00:00, 52.56it/s]\n",
            "  0%|          | 0/938 [00:00<?, ?it/s]"
          ],
          "name": "stderr"
        },
        {
          "output_type": "stream",
          "text": [
            "\n",
            "Test set: Average loss: 0.0381, Accuracy: 9894/10000 (98.94%)\n",
            "\n",
            "\n",
            "EPOCH: 3\n"
          ],
          "name": "stdout"
        },
        {
          "output_type": "stream",
          "text": [
            "Loss=0.0064618587493896484 Batch_id=937 Accuracy=98.53: 100%|██████████| 938/938 [00:17<00:00, 53.83it/s]\n",
            "  0%|          | 0/938 [00:00<?, ?it/s]"
          ],
          "name": "stderr"
        },
        {
          "output_type": "stream",
          "text": [
            "\n",
            "Test set: Average loss: 0.0288, Accuracy: 9905/10000 (99.05%)\n",
            "\n",
            "\n",
            "EPOCH: 4\n"
          ],
          "name": "stdout"
        },
        {
          "output_type": "stream",
          "text": [
            "Loss=0.074736088514328 Batch_id=937 Accuracy=98.72: 100%|██████████| 938/938 [00:17<00:00, 54.21it/s]\n",
            "  0%|          | 0/938 [00:00<?, ?it/s]"
          ],
          "name": "stderr"
        },
        {
          "output_type": "stream",
          "text": [
            "\n",
            "Test set: Average loss: 0.0233, Accuracy: 9923/10000 (99.23%)\n",
            "\n",
            "\n",
            "EPOCH: 5\n"
          ],
          "name": "stdout"
        },
        {
          "output_type": "stream",
          "text": [
            "Loss=0.005042120814323425 Batch_id=937 Accuracy=98.66: 100%|██████████| 938/938 [00:17<00:00, 53.51it/s]\n",
            "  0%|          | 0/938 [00:00<?, ?it/s]"
          ],
          "name": "stderr"
        },
        {
          "output_type": "stream",
          "text": [
            "\n",
            "Test set: Average loss: 0.0229, Accuracy: 9927/10000 (99.27%)\n",
            "\n",
            "\n",
            "EPOCH: 6\n"
          ],
          "name": "stdout"
        },
        {
          "output_type": "stream",
          "text": [
            "Loss=0.006819546222686768 Batch_id=937 Accuracy=98.78: 100%|██████████| 938/938 [00:17<00:00, 54.80it/s]\n",
            "  0%|          | 0/938 [00:00<?, ?it/s]"
          ],
          "name": "stderr"
        },
        {
          "output_type": "stream",
          "text": [
            "\n",
            "Test set: Average loss: 0.0230, Accuracy: 9928/10000 (99.28%)\n",
            "\n",
            "\n",
            "EPOCH: 7\n"
          ],
          "name": "stdout"
        },
        {
          "output_type": "stream",
          "text": [
            "Loss=0.019119933247566223 Batch_id=937 Accuracy=98.81: 100%|██████████| 938/938 [00:17<00:00, 53.69it/s]\n",
            "  0%|          | 0/938 [00:00<?, ?it/s]"
          ],
          "name": "stderr"
        },
        {
          "output_type": "stream",
          "text": [
            "\n",
            "Test set: Average loss: 0.0214, Accuracy: 9925/10000 (99.25%)\n",
            "\n",
            "\n",
            "EPOCH: 8\n"
          ],
          "name": "stdout"
        },
        {
          "output_type": "stream",
          "text": [
            "Loss=0.013068407773971558 Batch_id=937 Accuracy=98.97: 100%|██████████| 938/938 [00:17<00:00, 53.19it/s]\n",
            "  0%|          | 0/938 [00:00<?, ?it/s]"
          ],
          "name": "stderr"
        },
        {
          "output_type": "stream",
          "text": [
            "\n",
            "Test set: Average loss: 0.0195, Accuracy: 9936/10000 (99.36%)\n",
            "\n",
            "\n",
            "EPOCH: 9\n"
          ],
          "name": "stdout"
        },
        {
          "output_type": "stream",
          "text": [
            "Loss=0.007195621728897095 Batch_id=937 Accuracy=98.98: 100%|██████████| 938/938 [00:17<00:00, 54.11it/s]\n",
            "  0%|          | 0/938 [00:00<?, ?it/s]"
          ],
          "name": "stderr"
        },
        {
          "output_type": "stream",
          "text": [
            "\n",
            "Test set: Average loss: 0.0220, Accuracy: 9931/10000 (99.31%)\n",
            "\n",
            "\n",
            "EPOCH: 10\n"
          ],
          "name": "stdout"
        },
        {
          "output_type": "stream",
          "text": [
            "Loss=0.017928913235664368 Batch_id=937 Accuracy=98.98: 100%|██████████| 938/938 [00:17<00:00, 54.74it/s]\n",
            "  0%|          | 0/938 [00:00<?, ?it/s]"
          ],
          "name": "stderr"
        },
        {
          "output_type": "stream",
          "text": [
            "\n",
            "Test set: Average loss: 0.0231, Accuracy: 9934/10000 (99.34%)\n",
            "\n",
            "\n",
            "EPOCH: 11\n"
          ],
          "name": "stdout"
        },
        {
          "output_type": "stream",
          "text": [
            "Loss=0.002134472131729126 Batch_id=937 Accuracy=99.21: 100%|██████████| 938/938 [00:17<00:00, 53.76it/s]\n",
            "  0%|          | 0/938 [00:00<?, ?it/s]"
          ],
          "name": "stderr"
        },
        {
          "output_type": "stream",
          "text": [
            "\n",
            "Test set: Average loss: 0.0172, Accuracy: 9944/10000 (99.44%)\n",
            "\n",
            "\n",
            "EPOCH: 12\n"
          ],
          "name": "stdout"
        },
        {
          "output_type": "stream",
          "text": [
            "Loss=0.03837743401527405 Batch_id=937 Accuracy=99.28: 100%|██████████| 938/938 [00:17<00:00, 53.55it/s]\n",
            "  0%|          | 0/938 [00:00<?, ?it/s]"
          ],
          "name": "stderr"
        },
        {
          "output_type": "stream",
          "text": [
            "\n",
            "Test set: Average loss: 0.0165, Accuracy: 9948/10000 (99.48%)\n",
            "\n",
            "\n",
            "EPOCH: 13\n"
          ],
          "name": "stdout"
        },
        {
          "output_type": "stream",
          "text": [
            "Loss=0.008769795298576355 Batch_id=937 Accuracy=99.36: 100%|██████████| 938/938 [00:17<00:00, 54.80it/s]\n",
            "  0%|          | 0/938 [00:00<?, ?it/s]"
          ],
          "name": "stderr"
        },
        {
          "output_type": "stream",
          "text": [
            "\n",
            "Test set: Average loss: 0.0165, Accuracy: 9944/10000 (99.44%)\n",
            "\n",
            "\n",
            "EPOCH: 14\n"
          ],
          "name": "stdout"
        },
        {
          "output_type": "stream",
          "text": [
            "Loss=0.0008133500814437866 Batch_id=937 Accuracy=99.36: 100%|██████████| 938/938 [00:17<00:00, 54.09it/s]\n",
            "  0%|          | 0/938 [00:00<?, ?it/s]"
          ],
          "name": "stderr"
        },
        {
          "output_type": "stream",
          "text": [
            "\n",
            "Test set: Average loss: 0.0159, Accuracy: 9948/10000 (99.48%)\n",
            "\n",
            "\n",
            "EPOCH: 15\n"
          ],
          "name": "stdout"
        },
        {
          "output_type": "stream",
          "text": [
            "Loss=0.004366204142570496 Batch_id=937 Accuracy=99.39: 100%|██████████| 938/938 [00:17<00:00, 53.73it/s]\n",
            "  0%|          | 0/938 [00:00<?, ?it/s]"
          ],
          "name": "stderr"
        },
        {
          "output_type": "stream",
          "text": [
            "\n",
            "Test set: Average loss: 0.0177, Accuracy: 9942/10000 (99.42%)\n",
            "\n",
            "\n",
            "EPOCH: 16\n"
          ],
          "name": "stdout"
        },
        {
          "output_type": "stream",
          "text": [
            "Loss=0.005675196647644043 Batch_id=937 Accuracy=99.37: 100%|██████████| 938/938 [00:17<00:00, 54.71it/s]\n",
            "  0%|          | 0/938 [00:00<?, ?it/s]"
          ],
          "name": "stderr"
        },
        {
          "output_type": "stream",
          "text": [
            "\n",
            "Test set: Average loss: 0.0164, Accuracy: 9945/10000 (99.45%)\n",
            "\n",
            "\n",
            "EPOCH: 17\n"
          ],
          "name": "stdout"
        },
        {
          "output_type": "stream",
          "text": [
            "Loss=0.027422189712524414 Batch_id=937 Accuracy=99.39: 100%|██████████| 938/938 [00:17<00:00, 53.90it/s]\n",
            "  0%|          | 0/938 [00:00<?, ?it/s]"
          ],
          "name": "stderr"
        },
        {
          "output_type": "stream",
          "text": [
            "\n",
            "Test set: Average loss: 0.0167, Accuracy: 9946/10000 (99.46%)\n",
            "\n",
            "\n",
            "EPOCH: 18\n"
          ],
          "name": "stdout"
        },
        {
          "output_type": "stream",
          "text": [
            "Loss=0.006337687373161316 Batch_id=937 Accuracy=99.38: 100%|██████████| 938/938 [00:17<00:00, 54.91it/s]\n",
            "  0%|          | 0/938 [00:00<?, ?it/s]"
          ],
          "name": "stderr"
        },
        {
          "output_type": "stream",
          "text": [
            "\n",
            "Test set: Average loss: 0.0159, Accuracy: 9950/10000 (99.50%)\n",
            "\n",
            "\n",
            "EPOCH: 19\n"
          ],
          "name": "stdout"
        },
        {
          "output_type": "stream",
          "text": [
            "Loss=0.02903267741203308 Batch_id=937 Accuracy=99.38: 100%|██████████| 938/938 [00:17<00:00, 54.09it/s]\n",
            "  0%|          | 0/938 [00:00<?, ?it/s]"
          ],
          "name": "stderr"
        },
        {
          "output_type": "stream",
          "text": [
            "\n",
            "Test set: Average loss: 0.0174, Accuracy: 9947/10000 (99.47%)\n",
            "\n",
            "\n",
            "EPOCH: 20\n"
          ],
          "name": "stdout"
        },
        {
          "output_type": "stream",
          "text": [
            "Loss=0.0055531710386276245 Batch_id=937 Accuracy=99.32: 100%|██████████| 938/938 [00:18<00:00, 51.55it/s]\n",
            "  0%|          | 0/938 [00:00<?, ?it/s]"
          ],
          "name": "stderr"
        },
        {
          "output_type": "stream",
          "text": [
            "\n",
            "Test set: Average loss: 0.0171, Accuracy: 9945/10000 (99.45%)\n",
            "\n",
            "\n",
            "EPOCH: 21\n"
          ],
          "name": "stdout"
        },
        {
          "output_type": "stream",
          "text": [
            "Loss=0.002531081438064575 Batch_id=937 Accuracy=99.40: 100%|██████████| 938/938 [00:17<00:00, 53.85it/s]\n",
            "  0%|          | 0/938 [00:00<?, ?it/s]"
          ],
          "name": "stderr"
        },
        {
          "output_type": "stream",
          "text": [
            "\n",
            "Test set: Average loss: 0.0161, Accuracy: 9947/10000 (99.47%)\n",
            "\n",
            "\n",
            "EPOCH: 22\n"
          ],
          "name": "stdout"
        },
        {
          "output_type": "stream",
          "text": [
            "Loss=0.004194587469100952 Batch_id=937 Accuracy=99.41: 100%|██████████| 938/938 [00:17<00:00, 54.35it/s]\n",
            "  0%|          | 0/938 [00:00<?, ?it/s]"
          ],
          "name": "stderr"
        },
        {
          "output_type": "stream",
          "text": [
            "\n",
            "Test set: Average loss: 0.0168, Accuracy: 9944/10000 (99.44%)\n",
            "\n",
            "\n",
            "EPOCH: 23\n"
          ],
          "name": "stdout"
        },
        {
          "output_type": "stream",
          "text": [
            "Loss=0.018872469663619995 Batch_id=937 Accuracy=99.41: 100%|██████████| 938/938 [00:17<00:00, 52.88it/s]\n",
            "  0%|          | 0/938 [00:00<?, ?it/s]"
          ],
          "name": "stderr"
        },
        {
          "output_type": "stream",
          "text": [
            "\n",
            "Test set: Average loss: 0.0153, Accuracy: 9949/10000 (99.49%)\n",
            "\n",
            "\n",
            "EPOCH: 24\n"
          ],
          "name": "stdout"
        },
        {
          "output_type": "stream",
          "text": [
            "Loss=0.003314763307571411 Batch_id=937 Accuracy=99.39: 100%|██████████| 938/938 [00:17<00:00, 53.14it/s]\n",
            "  0%|          | 0/938 [00:00<?, ?it/s]"
          ],
          "name": "stderr"
        },
        {
          "output_type": "stream",
          "text": [
            "\n",
            "Test set: Average loss: 0.0162, Accuracy: 9945/10000 (99.45%)\n",
            "\n",
            "\n",
            "EPOCH: 25\n"
          ],
          "name": "stdout"
        },
        {
          "output_type": "stream",
          "text": [
            "Loss=0.0016182363033294678 Batch_id=937 Accuracy=99.42: 100%|██████████| 938/938 [00:17<00:00, 53.84it/s]\n",
            "  0%|          | 0/938 [00:00<?, ?it/s]"
          ],
          "name": "stderr"
        },
        {
          "output_type": "stream",
          "text": [
            "\n",
            "Test set: Average loss: 0.0179, Accuracy: 9945/10000 (99.45%)\n",
            "\n",
            "\n",
            "EPOCH: 26\n"
          ],
          "name": "stdout"
        },
        {
          "output_type": "stream",
          "text": [
            "Loss=0.006864383816719055 Batch_id=937 Accuracy=99.47: 100%|██████████| 938/938 [00:17<00:00, 53.49it/s]\n",
            "  0%|          | 0/938 [00:00<?, ?it/s]"
          ],
          "name": "stderr"
        },
        {
          "output_type": "stream",
          "text": [
            "\n",
            "Test set: Average loss: 0.0158, Accuracy: 9946/10000 (99.46%)\n",
            "\n",
            "\n",
            "EPOCH: 27\n"
          ],
          "name": "stdout"
        },
        {
          "output_type": "stream",
          "text": [
            "Loss=0.0026256144046783447 Batch_id=937 Accuracy=99.42: 100%|██████████| 938/938 [00:17<00:00, 52.83it/s]\n",
            "  0%|          | 0/938 [00:00<?, ?it/s]"
          ],
          "name": "stderr"
        },
        {
          "output_type": "stream",
          "text": [
            "\n",
            "Test set: Average loss: 0.0160, Accuracy: 9948/10000 (99.48%)\n",
            "\n",
            "\n",
            "EPOCH: 28\n"
          ],
          "name": "stdout"
        },
        {
          "output_type": "stream",
          "text": [
            "Loss=0.028676390647888184 Batch_id=937 Accuracy=99.43: 100%|██████████| 938/938 [00:17<00:00, 53.45it/s]\n",
            "  0%|          | 0/938 [00:00<?, ?it/s]"
          ],
          "name": "stderr"
        },
        {
          "output_type": "stream",
          "text": [
            "\n",
            "Test set: Average loss: 0.0159, Accuracy: 9947/10000 (99.47%)\n",
            "\n",
            "\n",
            "EPOCH: 29\n"
          ],
          "name": "stdout"
        },
        {
          "output_type": "stream",
          "text": [
            "Loss=0.004788130521774292 Batch_id=937 Accuracy=99.41: 100%|██████████| 938/938 [00:17<00:00, 54.13it/s]\n",
            "  0%|          | 0/938 [00:00<?, ?it/s]"
          ],
          "name": "stderr"
        },
        {
          "output_type": "stream",
          "text": [
            "\n",
            "Test set: Average loss: 0.0165, Accuracy: 9946/10000 (99.46%)\n",
            "\n",
            "\n",
            "EPOCH: 30\n"
          ],
          "name": "stdout"
        },
        {
          "output_type": "stream",
          "text": [
            "Loss=0.006008535623550415 Batch_id=937 Accuracy=99.42: 100%|██████████| 938/938 [00:17<00:00, 53.08it/s]\n",
            "  0%|          | 0/938 [00:00<?, ?it/s]"
          ],
          "name": "stderr"
        },
        {
          "output_type": "stream",
          "text": [
            "\n",
            "Test set: Average loss: 0.0162, Accuracy: 9946/10000 (99.46%)\n",
            "\n",
            "\n",
            "EPOCH: 31\n"
          ],
          "name": "stdout"
        },
        {
          "output_type": "stream",
          "text": [
            "Loss=0.011045783758163452 Batch_id=937 Accuracy=99.40: 100%|██████████| 938/938 [00:17<00:00, 54.08it/s]\n",
            "  0%|          | 0/938 [00:00<?, ?it/s]"
          ],
          "name": "stderr"
        },
        {
          "output_type": "stream",
          "text": [
            "\n",
            "Test set: Average loss: 0.0158, Accuracy: 9947/10000 (99.47%)\n",
            "\n",
            "\n",
            "EPOCH: 32\n"
          ],
          "name": "stdout"
        },
        {
          "output_type": "stream",
          "text": [
            "Loss=0.002228274941444397 Batch_id=937 Accuracy=99.41: 100%|██████████| 938/938 [00:17<00:00, 54.60it/s]\n",
            "  0%|          | 0/938 [00:00<?, ?it/s]"
          ],
          "name": "stderr"
        },
        {
          "output_type": "stream",
          "text": [
            "\n",
            "Test set: Average loss: 0.0158, Accuracy: 9948/10000 (99.48%)\n",
            "\n",
            "\n",
            "EPOCH: 33\n"
          ],
          "name": "stdout"
        },
        {
          "output_type": "stream",
          "text": [
            "Loss=0.002575024962425232 Batch_id=937 Accuracy=99.43: 100%|██████████| 938/938 [00:17<00:00, 54.17it/s]\n",
            "  0%|          | 0/938 [00:00<?, ?it/s]"
          ],
          "name": "stderr"
        },
        {
          "output_type": "stream",
          "text": [
            "\n",
            "Test set: Average loss: 0.0159, Accuracy: 9944/10000 (99.44%)\n",
            "\n",
            "\n",
            "EPOCH: 34\n"
          ],
          "name": "stdout"
        },
        {
          "output_type": "stream",
          "text": [
            "Loss=0.00351908802986145 Batch_id=937 Accuracy=99.43: 100%|██████████| 938/938 [00:17<00:00, 54.63it/s]\n",
            "  0%|          | 0/938 [00:00<?, ?it/s]"
          ],
          "name": "stderr"
        },
        {
          "output_type": "stream",
          "text": [
            "\n",
            "Test set: Average loss: 0.0171, Accuracy: 9942/10000 (99.42%)\n",
            "\n",
            "\n",
            "EPOCH: 35\n"
          ],
          "name": "stdout"
        },
        {
          "output_type": "stream",
          "text": [
            "Loss=0.014529898762702942 Batch_id=937 Accuracy=99.45: 100%|██████████| 938/938 [00:18<00:00, 51.38it/s]\n",
            "  0%|          | 0/938 [00:00<?, ?it/s]"
          ],
          "name": "stderr"
        },
        {
          "output_type": "stream",
          "text": [
            "\n",
            "Test set: Average loss: 0.0165, Accuracy: 9946/10000 (99.46%)\n",
            "\n",
            "\n",
            "EPOCH: 36\n"
          ],
          "name": "stdout"
        },
        {
          "output_type": "stream",
          "text": [
            "Loss=0.055269986391067505 Batch_id=937 Accuracy=99.44: 100%|██████████| 938/938 [00:18<00:00, 51.73it/s]\n",
            "  0%|          | 0/938 [00:00<?, ?it/s]"
          ],
          "name": "stderr"
        },
        {
          "output_type": "stream",
          "text": [
            "\n",
            "Test set: Average loss: 0.0158, Accuracy: 9946/10000 (99.46%)\n",
            "\n",
            "\n",
            "EPOCH: 37\n"
          ],
          "name": "stdout"
        },
        {
          "output_type": "stream",
          "text": [
            "Loss=0.006145671010017395 Batch_id=937 Accuracy=99.44: 100%|██████████| 938/938 [00:18<00:00, 50.84it/s]\n",
            "  0%|          | 0/938 [00:00<?, ?it/s]"
          ],
          "name": "stderr"
        },
        {
          "output_type": "stream",
          "text": [
            "\n",
            "Test set: Average loss: 0.0162, Accuracy: 9942/10000 (99.42%)\n",
            "\n",
            "\n",
            "EPOCH: 38\n"
          ],
          "name": "stdout"
        },
        {
          "output_type": "stream",
          "text": [
            "Loss=0.0017985701560974121 Batch_id=937 Accuracy=99.39: 100%|██████████| 938/938 [00:18<00:00, 50.37it/s]\n",
            "  0%|          | 0/938 [00:00<?, ?it/s]"
          ],
          "name": "stderr"
        },
        {
          "output_type": "stream",
          "text": [
            "\n",
            "Test set: Average loss: 0.0159, Accuracy: 9949/10000 (99.49%)\n",
            "\n",
            "\n",
            "EPOCH: 39\n"
          ],
          "name": "stdout"
        },
        {
          "output_type": "stream",
          "text": [
            "Loss=0.09439973533153534 Batch_id=937 Accuracy=99.44: 100%|██████████| 938/938 [00:18<00:00, 51.57it/s]\n"
          ],
          "name": "stderr"
        },
        {
          "output_type": "stream",
          "text": [
            "\n",
            "Test set: Average loss: 0.0160, Accuracy: 9948/10000 (99.48%)\n",
            "\n",
            "\n"
          ],
          "name": "stdout"
        }
      ]
    },
    {
      "cell_type": "code",
      "metadata": {
        "id": "Deu5dBoZBRkh",
        "colab_type": "code",
        "outputId": "7a5155cb-6ae7-4ca5-9280-31a24f73c37d",
        "colab": {
          "base_uri": "https://localhost:8080/",
          "height": 624
        }
      },
      "source": [
        "import matplotlib.pyplot as plt\n",
        "\n",
        "fig, axs = plt.subplots(2,2,figsize=(15,10))\n",
        "axs[0, 0].plot(train_losses)\n",
        "axs[0, 0].set_title(\"Training Loss\")\n",
        "axs[1, 0].plot(train_acc)\n",
        "axs[1, 0].set_title(\"Training Accuracy\")\n",
        "axs[0, 1].plot(test_losses)\n",
        "axs[0, 1].set_title(\"Test Loss\")\n",
        "axs[1, 1].plot(test_acc)\n",
        "axs[1, 1].set_title(\"Test Accuracy\")"
      ],
      "execution_count": 0,
      "outputs": [
        {
          "output_type": "execute_result",
          "data": {
            "text/plain": [
              "Text(0.5, 1.0, 'Test Accuracy')"
            ]
          },
          "metadata": {
            "tags": []
          },
          "execution_count": 11
        },
        {
          "output_type": "display_data",
          "data": {
            "image/png": "[encoded data removed]",
            "text/plain": [
              "<Figure size 1080x720 with 4 Axes>"
            ]
          },
          "metadata": {
            "tags": []
          }
        }
      ]
    },
    {
      "cell_type": "code",
      "metadata": {
        "id": "lJO9rnvSBRiY",
        "colab_type": "code",
        "outputId": "ffb5e27d-cb4e-4bcb-8b98-ea47084d4988",
        "colab": {
          "base_uri": "https://localhost:8080/",
          "height": 697
        }
      },
      "source": [
        "test_losses"
      ],
      "execution_count": 0,
      "outputs": [
        {
          "output_type": "execute_result",
          "data": {
            "text/plain": [
              "[0.052085985612869264,\n",
              " 0.028266593909263612,\n",
              " 0.03809938263893128,\n",
              " 0.028764300441741945,\n",
              " 0.02326150231361389,\n",
              " 0.022938427782058717,\n",
              " 0.02297629828453064,\n",
              " 0.021427178859710693,\n",
              " 0.019470636320114136,\n",
              " 0.021971573996543883,\n",
              " 0.02314926428794861,\n",
              " 0.01721798541545868,\n",
              " 0.01646664457321167,\n",
              " 0.01652360851764679,\n",
              " 0.015905595684051515,\n",
              " 0.017654774689674378,\n",
              " 0.01638858187198639,\n",
              " 0.01666789355278015,\n",
              " 0.01585571200847626,\n",
              " 0.017436029243469237,\n",
              " 0.017081219506263734,\n",
              " 0.016146014523506166,\n",
              " 0.016799167251586915,\n",
              " 0.015270501828193665,\n",
              " 0.016165258979797363,\n",
              " 0.017886248683929445,\n",
              " 0.015792617702484132,\n",
              " 0.015972278022766115,\n",
              " 0.01588868372440338,\n",
              " 0.01649070737361908,\n",
              " 0.01621647641658783,\n",
              " 0.01578707056045532,\n",
              " 0.015784507417678832,\n",
              " 0.015913955521583558,\n",
              " 0.017092535090446472,\n",
              " 0.016546371722221374,\n",
              " 0.015758612036705016,\n",
              " 0.016179366540908815,\n",
              " 0.015906920289993288,\n",
              " 0.01603855721950531]"
            ]
          },
          "metadata": {
            "tags": []
          },
          "execution_count": 12
        }
      ]
    },
    {
      "cell_type": "code",
      "metadata": {
        "id": "acaRSQ5EBRdn",
        "colab_type": "code",
        "outputId": "cad3f426-58a1-42d8-fa7f-ecbfd282c43a",
        "colab": {
          "base_uri": "https://localhost:8080/",
          "height": 697
        }
      },
      "source": [
        "test_acc"
      ],
      "execution_count": 0,
      "outputs": [
        {
          "output_type": "execute_result",
          "data": {
            "text/plain": [
              "[98.33,\n",
              " 99.14,\n",
              " 98.94,\n",
              " 99.05,\n",
              " 99.23,\n",
              " 99.27,\n",
              " 99.28,\n",
              " 99.25,\n",
              " 99.36,\n",
              " 99.31,\n",
              " 99.34,\n",
              " 99.44,\n",
              " 99.48,\n",
              " 99.44,\n",
              " 99.48,\n",
              " 99.42,\n",
              " 99.45,\n",
              " 99.46,\n",
              " 99.5,\n",
              " 99.47,\n",
              " 99.45,\n",
              " 99.47,\n",
              " 99.44,\n",
              " 99.49,\n",
              " 99.45,\n",
              " 99.45,\n",
              " 99.46,\n",
              " 99.48,\n",
              " 99.47,\n",
              " 99.46,\n",
              " 99.46,\n",
              " 99.47,\n",
              " 99.48,\n",
              " 99.44,\n",
              " 99.42,\n",
              " 99.46,\n",
              " 99.46,\n",
              " 99.42,\n",
              " 99.49,\n",
              " 99.48]"
            ]
          },
          "metadata": {
            "tags": []
          },
          "execution_count": 13
        }
      ]
    },
    {
      "cell_type": "markdown",
      "metadata": {
        "id": "Okb-H2diswwV",
        "colab_type": "text"
      },
      "source": [
        "**BASE CODE VALIDATION LOSS AND ACC**"
      ]
    },
    {
      "cell_type": "code",
      "metadata": {
        "id": "iseRnQleBRUR",
        "colab_type": "code",
        "colab": {}
      },
      "source": [
        "tloss_code1 = [0.052085985612869264, 0.028266593909263612, 0.03809938263893128, 0.028764300441741945, 0.02326150231361389, \n",
        "               0.022938427782058717, 0.02297629828453064, 0.021427178859710693, 0.019470636320114136, 0.021971573996543883,\n",
        "               0.02314926428794861, 0.01721798541545868, 0.01646664457321167, 0.01652360851764679, 0.015905595684051515, \n",
        "               0.017654774689674378, 0.01638858187198639, 0.01666789355278015, 0.01585571200847626, 0.017436029243469237,\n",
        "               0.017081219506263734, 0.016146014523506166, 0.016799167251586915, 0.015270501828193665, 0.016165258979797363, \n",
        "               0.017886248683929445, 0.015792617702484132, 0.015972278022766115, 0.01588868372440338, 0.01649070737361908, \n",
        "               0.01621647641658783, 0.01578707056045532, 0.015784507417678832, 0.015913955521583558, 0.017092535090446472, \n",
        "               0.016546371722221374, 0.015758612036705016, 0.016179366540908815, 0.015906920289993288, 0.01603855721950531]"
      ],
      "execution_count": 0,
      "outputs": []
    },
    {
      "cell_type": "code",
      "metadata": {
        "id": "PPk3J9XKBRPS",
        "colab_type": "code",
        "colab": {}
      },
      "source": [
        "tacc_code1 = [98.33, 99.14, 98.94, 99.05, 99.23, 99.27, 99.28, 99.25, 99.36, 99.31, 99.34, 99.44, 99.48, 99.44, 99.48, 99.42,\n",
        "              99.45, 99.46, 99.5, 99.47, 99.45, 99.47, 99.44, 99.49, 99.45, 99.45, 99.46, 99.48, 99.47, 99.46, 99.46, 99.47, 99.48,\n",
        "              99.44, 99.42, 99.46, 99.46, 99.42, 99.49, 99.48]"
      ],
      "execution_count": 0,
      "outputs": []
    },
    {
      "cell_type": "markdown",
      "metadata": {
        "id": "U_3GFMhitTpE",
        "colab_type": "text"
      },
      "source": [
        "**L2 CODE VALIDATION ACC AND LOSS**"
      ]
    },
    {
      "cell_type": "code",
      "metadata": {
        "id": "05HawwPzGqxH",
        "colab_type": "code",
        "colab": {}
      },
      "source": [
        "tloss_code2 = [0.052508075308799744,\n",
        " 0.03345730826854706,\n",
        " 0.03889703938961029,\n",
        " 0.024563658142089845,\n",
        " 0.028511730742454527,\n",
        " 0.02442500693798065,\n",
        " 0.031488150882720944,\n",
        " 0.025444161653518677,\n",
        " 0.028513940596580505,\n",
        " 0.02417308053970337,\n",
        " 0.029250298070907593,\n",
        " 0.018021013832092286,\n",
        " 0.018065582847595216,\n",
        " 0.017420833325386048,\n",
        " 0.016255628514289855,\n",
        " 0.018138826763629913,\n",
        " 0.016769290554523468,\n",
        " 0.01652405891418457,\n",
        " 0.016031511807441712,\n",
        " 0.017012686562538147,\n",
        " 0.01751996147632599,\n",
        " 0.016880241179466248,\n",
        " 0.016444201052188873,\n",
        " 0.015224508547782898,\n",
        " 0.015507036471366883,\n",
        " 0.01701075575351715,\n",
        " 0.015726862943172455,\n",
        " 0.015829627203941345,\n",
        " 0.015360989463329314,\n",
        " 0.015815583062171935,\n",
        " 0.01570673050880432,\n",
        " 0.015506615710258484,\n",
        " 0.015570204412937164,\n",
        " 0.015844723117351533,\n",
        " 0.01639365439414978,\n",
        " 0.015752777528762817,\n",
        " 0.015737848925590516,\n",
        " 0.015842460441589355,\n",
        " 0.015773168325424195,\n",
        " 0.015561237275600433]"
      ],
      "execution_count": 0,
      "outputs": []
    },
    {
      "cell_type": "code",
      "metadata": {
        "id": "BgrMx52TtJDS",
        "colab_type": "code",
        "colab": {}
      },
      "source": [
        "tacc_code2 = [98.52,\n",
        " 99.03,\n",
        " 98.81,\n",
        " 99.32,\n",
        " 99.08,\n",
        " 99.24,\n",
        " 99.02,\n",
        " 99.13,\n",
        " 99.18,\n",
        " 99.36,\n",
        " 99.07,\n",
        " 99.49,\n",
        " 99.46,\n",
        " 99.48,\n",
        " 99.51,\n",
        " 99.49,\n",
        " 99.54,\n",
        " 99.53,\n",
        " 99.6,\n",
        " 99.54,\n",
        " 99.51,\n",
        " 99.49,\n",
        " 99.54,\n",
        " 99.58,\n",
        " 99.58,\n",
        " 99.53,\n",
        " 99.56,\n",
        " 99.56,\n",
        " 99.59,\n",
        " 99.58,\n",
        " 99.58,\n",
        " 99.59,\n",
        " 99.56,\n",
        " 99.55,\n",
        " 99.54,\n",
        " 99.58,\n",
        " 99.6,\n",
        " 99.49,\n",
        " 99.58,\n",
        " 99.53]"
      ],
      "execution_count": 0,
      "outputs": []
    },
    {
      "cell_type": "markdown",
      "metadata": {
        "id": "iPtR0V2LtZRo",
        "colab_type": "text"
      },
      "source": [
        "**L1 CODE VALIDATION ACC AND LOSS**"
      ]
    },
    {
      "cell_type": "code",
      "metadata": {
        "id": "6WuDzQDKGqtj",
        "colab_type": "code",
        "colab": {}
      },
      "source": [
        "tloss_code3 =[0.07442633078098297,\n",
        " 0.05513506917953491,\n",
        " 0.04737527358531952,\n",
        " 0.06100715911388397,\n",
        " 0.03960422608852387,\n",
        " 0.037979753065109256,\n",
        " 0.05527357864379883,\n",
        " 0.04274931225776672,\n",
        " 0.052501496171951295,\n",
        " 0.03878770313262939,\n",
        " 0.057239402222633365,\n",
        " 0.022408894395828247,\n",
        " 0.022152929592132567,\n",
        " 0.021890758180618287,\n",
        " 0.021677002477645875,\n",
        " 0.02272734432220459,\n",
        " 0.020780073952674866,\n",
        " 0.02343551971912384,\n",
        " 0.021418439769744873,\n",
        " 0.021872527074813842,\n",
        " 0.027058540081977844,\n",
        " 0.025168478274345398,\n",
        " 0.021072355699539184,\n",
        " 0.01904959318637848,\n",
        " 0.020206390476226806,\n",
        " 0.02229899163246155,\n",
        " 0.019660679769515993,\n",
        " 0.01940583579540253,\n",
        " 0.019466518568992616,\n",
        " 0.019952217650413513,\n",
        " 0.01957786250114441,\n",
        " 0.019943429136276246,\n",
        " 0.019019987750053407,\n",
        " 0.020205087018013,\n",
        " 0.02103769271373749,\n",
        " 0.020029048752784728,\n",
        " 0.019886729407310486,\n",
        " 0.019761698746681215,\n",
        " 0.020002126717567445,\n",
        " 0.019231430888175964]"
      ],
      "execution_count": 0,
      "outputs": []
    },
    {
      "cell_type": "code",
      "metadata": {
        "id": "2aY8OYYTGqpj",
        "colab_type": "code",
        "colab": {}
      },
      "source": [
        "tacc_code3 = [97.75,\n",
        " 98.23,\n",
        " 98.42,\n",
        " 98.09,\n",
        " 98.85,\n",
        " 98.92,\n",
        " 98.27,\n",
        " 98.6,\n",
        " 98.25,\n",
        " 98.74,\n",
        " 98.03,\n",
        " 99.21,\n",
        " 99.32,\n",
        " 99.31,\n",
        " 99.38,\n",
        " 99.39,\n",
        " 99.43,\n",
        " 99.36,\n",
        " 99.42,\n",
        " 99.37,\n",
        " 99.17,\n",
        " 99.23,\n",
        " 99.43,\n",
        " 99.47,\n",
        " 99.45,\n",
        " 99.35,\n",
        " 99.45,\n",
        " 99.48,\n",
        " 99.49,\n",
        " 99.42,\n",
        " 99.49,\n",
        " 99.46,\n",
        " 99.44,\n",
        " 99.43,\n",
        " 99.43,\n",
        " 99.44,\n",
        " 99.46,\n",
        " 99.45,\n",
        " 99.44,\n",
        " 99.45]"
      ],
      "execution_count": 0,
      "outputs": []
    },
    {
      "cell_type": "markdown",
      "metadata": {
        "id": "4nrLO1n3tfg6",
        "colab_type": "text"
      },
      "source": [
        "**L1+L2 CODE VALIDATION ACC AND LOSS**"
      ]
    },
    {
      "cell_type": "code",
      "metadata": {
        "id": "jE9kkx35Gqcn",
        "colab_type": "code",
        "colab": {}
      },
      "source": [
        "tloss_code4 = [0.05732102632522583,\n",
        " 0.041443751978874205,\n",
        " 0.03899158053398132,\n",
        " 0.04268972117900848,\n",
        " 0.06736578135490418,\n",
        " 0.04747112545967102,\n",
        " 0.036349484848976134,\n",
        " 0.03798138451576233,\n",
        " 0.049087152218818667,\n",
        " 0.03323505120277405,\n",
        " 0.03072198164463043,\n",
        " 0.0218588506937027,\n",
        " 0.022514274168014527,\n",
        " 0.02015463593006134,\n",
        " 0.019280084347724914,\n",
        " 0.021717540836334228,\n",
        " 0.01845328176021576,\n",
        " 0.020425528216362,\n",
        " 0.020977897882461547,\n",
        " 0.02117165584564209,\n",
        " 0.020521101450920103,\n",
        " 0.020111455869674683,\n",
        " 0.019124975633621217,\n",
        " 0.01940537543296814,\n",
        " 0.018374575567245484,\n",
        " 0.018342750334739685,\n",
        " 0.017942811799049378,\n",
        " 0.017880751514434814,\n",
        " 0.018669797587394715,\n",
        " 0.018264486479759215,\n",
        " 0.018369687390327454,\n",
        " 0.01809851996898651,\n",
        " 0.018901772117614745,\n",
        " 0.018535819554328918,\n",
        " 0.01719788603782654,\n",
        " 0.01872177782058716,\n",
        " 0.01746646144390106,\n",
        " 0.017998728489875795,\n",
        " 0.018606094884872436,\n",
        " 0.01776366274356842]"
      ],
      "execution_count": 0,
      "outputs": []
    },
    {
      "cell_type": "code",
      "metadata": {
        "id": "At-Hv_MlGqYm",
        "colab_type": "code",
        "colab": {}
      },
      "source": [
        "tacc_code4 = [98.11,\n",
        " 98.71,\n",
        " 98.78,\n",
        " 98.56,\n",
        " 97.81,\n",
        " 98.44,\n",
        " 98.9,\n",
        " 98.73,\n",
        " 98.34,\n",
        " 98.93,\n",
        " 99.08,\n",
        " 99.37,\n",
        " 99.37,\n",
        " 99.4,\n",
        " 99.49,\n",
        " 99.37,\n",
        " 99.45,\n",
        " 99.36,\n",
        " 99.36,\n",
        " 99.32,\n",
        " 99.35,\n",
        " 99.37,\n",
        " 99.42,\n",
        " 99.38,\n",
        " 99.45,\n",
        " 99.45,\n",
        " 99.47,\n",
        " 99.45,\n",
        " 99.42,\n",
        " 99.46,\n",
        " 99.41,\n",
        " 99.47,\n",
        " 99.41,\n",
        " 99.41,\n",
        " 99.46,\n",
        " 99.4,\n",
        " 99.44,\n",
        " 99.45,\n",
        " 99.4,\n",
        " 99.44]"
      ],
      "execution_count": 0,
      "outputs": []
    },
    {
      "cell_type": "code",
      "metadata": {
        "id": "gRd1Xt3aGqJX",
        "colab_type": "code",
        "outputId": "abe08bc1-dd3e-45fa-9928-acbd35bcf22b",
        "colab": {
          "base_uri": "https://localhost:8080/",
          "height": 558
        }
      },
      "source": [
        "from matplotlib import style\n",
        "style.use('fivethirtyeight')\n",
        "import matplotlib.pyplot as plt\n",
        "\n",
        "plt.figure(figsize=(13,8))\n",
        "plt.plot(tloss_code1,label='Without L1/L2')\n",
        "plt.plot(tloss_code2,label='With L2')\n",
        "plt.plot(tloss_code3,label='With L1')\n",
        "plt.plot(tloss_code4,label='With L1/L2 both')\n",
        "plt.legend(loc='best')\n",
        "plt.xlabel('EPOCHS')\n",
        "plt.ylabel('LOSS')\n",
        "plt.title('Validation loss PLOT')\n",
        "plt.show()"
      ],
      "execution_count": 0,
      "outputs": [
        {
          "output_type": "display_data",
          "data": {
            "image/png": "[encoded data removed]",
            "text/plain": [
              "<Figure size 936x576 with 1 Axes>"
            ]
          },
          "metadata": {
            "tags": []
          }
        }
      ]
    },
    {
      "cell_type": "code",
      "metadata": {
        "id": "hyA_UGBoLHTR",
        "colab_type": "code",
        "outputId": "8af781ae-039c-46db-c7de-c27bcee72fde",
        "colab": {
          "base_uri": "https://localhost:8080/",
          "height": 575
        }
      },
      "source": [
        "plt.figure(figsize=(13,8))\n",
        "plt.plot(tacc_code1,label='Without L1/L2')\n",
        "plt.plot(tacc_code2,label='With L2')\n",
        "plt.plot(tacc_code3,label='With L1')\n",
        "plt.plot(tacc_code4,label='With L1/L2 Both')\n",
        "plt.legend(loc='best')\n",
        "plt.ylabel('ACCURACY')\n",
        "plt.xlabel('EPOCHS')\n",
        "plt.title('Validation Accuracy PLOT')\n",
        "plt.show()\n",
        "plt.savefig('ACC GRAPH.png')"
      ],
      "execution_count": 0,
      "outputs": [
        {
          "output_type": "display_data",
          "data": {
            "image/png": "[encoded data removed]",
            "text/plain": [
              "<Figure size 936x576 with 1 Axes>"
            ]
          },
          "metadata": {
            "tags": []
          }
        },
        {
          "output_type": "display_data",
          "data": {
            "text/plain": [
              "<Figure size 432x288 with 0 Axes>"
            ]
          },
          "metadata": {
            "tags": []
          }
        }
      ]
    },
    {
      "cell_type": "code",
      "metadata": {
        "id": "evXm7DUXL7eT",
        "colab_type": "code",
        "colab": {}
      },
      "source": [
        ""
      ],
      "execution_count": 0,
      "outputs": []
    }
  ]
}